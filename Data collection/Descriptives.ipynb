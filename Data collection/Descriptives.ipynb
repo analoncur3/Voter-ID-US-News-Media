{
 "cells": [
  {
   "cell_type": "code",
   "execution_count": null,
   "metadata": {},
   "outputs": [],
   "source": [
    "!pip3 install news-please"
   ]
  },
  {
   "cell_type": "code",
   "execution_count": 2,
   "metadata": {},
   "outputs": [],
   "source": [
    "import pandas as pd\n",
    "import requests\n",
    "import time\n",
    "import newsplease\n",
    "from tqdm import tqdm\n",
    "import json\n",
    "import os\n",
    "from newsplease import NewsPlease\n",
    "from urllib.parse import urlparse"
   ]
  },
  {
   "cell_type": "markdown",
   "metadata": {},
   "source": [
    "## Descriptive stats"
   ]
  },
  {
   "cell_type": "code",
   "execution_count": null,
   "metadata": {},
   "outputs": [],
   "source": [
    "# load categorised data by media ideological affiliation\n",
    "df = pd.read_csv('C:/Users/analo/OneDrive - UvA/Project/Data/Mediacloud urls/Data_modified.csv')\n",
    "df.head()  "
   ]
  },
  {
   "cell_type": "code",
   "execution_count": 4,
   "metadata": {},
   "outputs": [
    {
     "data": {
      "text/html": [
       "<div>\n",
       "<style scoped>\n",
       "    .dataframe tbody tr th:only-of-type {\n",
       "        vertical-align: middle;\n",
       "    }\n",
       "\n",
       "    .dataframe tbody tr th {\n",
       "        vertical-align: top;\n",
       "    }\n",
       "\n",
       "    .dataframe thead th {\n",
       "        text-align: right;\n",
       "    }\n",
       "</style>\n",
       "<table border=\"1\" class=\"dataframe\">\n",
       "  <thead>\n",
       "    <tr style=\"text-align: right;\">\n",
       "      <th></th>\n",
       "      <th>type2</th>\n",
       "    </tr>\n",
       "  </thead>\n",
       "  <tbody>\n",
       "    <tr>\n",
       "      <th>liberal</th>\n",
       "      <td>773</td>\n",
       "    </tr>\n",
       "    <tr>\n",
       "      <th>conservative</th>\n",
       "      <td>570</td>\n",
       "    </tr>\n",
       "    <tr>\n",
       "      <th>moderate</th>\n",
       "      <td>331</td>\n",
       "    </tr>\n",
       "  </tbody>\n",
       "</table>\n",
       "</div>"
      ],
      "text/plain": [
       "              type2\n",
       "liberal         773\n",
       "conservative    570\n",
       "moderate        331"
      ]
     },
     "execution_count": 4,
     "metadata": {},
     "output_type": "execute_result"
    }
   ],
   "source": [
    "domain = df['type2'].value_counts()\n",
    "pd.DataFrame(domain)"
   ]
  },
  {
   "cell_type": "code",
   "execution_count": 5,
   "metadata": {},
   "outputs": [
    {
     "data": {
      "image/png": "[encoded data removed]",
      "text/plain": [
       "<Figure size 504x360 with 1 Axes>"
      ]
     },
     "metadata": {
      "needs_background": "light"
     },
     "output_type": "display_data"
    }
   ],
   "source": [
    "ax = domain.sort_index().plot(kind='bar', fontsize=14, figsize=(7,5)) # Counting articles per news source\n",
    "ax.set_title('Domain Article Count\\n', fontsize=20)\n",
    "ax.set_xlabel('Source', fontsize=18)\n",
    "ax.set_ylabel('Articles', fontsize=18);"
   ]
  },
  {
   "cell_type": "markdown",
   "metadata": {},
   "source": [
    "Fetching stories from a txt file containing all URLs (each line containing a single URL)"
   ]
  },
  {
   "cell_type": "code",
   "execution_count": 43,
   "metadata": {},
   "outputs": [],
   "source": [
    "# clean dataframe a bit\n",
    "df = data.drop(columns=['date_modify', 'date_download', 'filename', 'image_url', 'language', 'localpath', 'text', 'title_page', 'title_rss', 'authors', 'url','description']) # Remove columns"
   ]
  },
  {
   "cell_type": "code",
   "execution_count": 48,
   "metadata": {},
   "outputs": [
    {
     "data": {
      "text/html": [
       "<div>\n",
       "<style scoped>\n",
       "    .dataframe tbody tr th:only-of-type {\n",
       "        vertical-align: middle;\n",
       "    }\n",
       "\n",
       "    .dataframe tbody tr th {\n",
       "        vertical-align: top;\n",
       "    }\n",
       "\n",
       "    .dataframe thead th {\n",
       "        text-align: right;\n",
       "    }\n",
       "</style>\n",
       "<table border=\"1\" class=\"dataframe\">\n",
       "  <thead>\n",
       "    <tr style=\"text-align: right;\">\n",
       "      <th></th>\n",
       "      <th>date_publish</th>\n",
       "      <th>maintext</th>\n",
       "      <th>source_domain</th>\n",
       "      <th>title</th>\n",
       "      <th>Date</th>\n",
       "    </tr>\n",
       "  </thead>\n",
       "  <tbody>\n",
       "    <tr>\n",
       "      <th>0</th>\n",
       "      <td>2020-09-03 14:01:50</td>\n",
       "      <td>NEW You can now listen to Fox News articles!\\n...</td>\n",
       "      <td>www.foxnews.com</td>\n",
       "      <td>Arnold Schwarzenegger offers to pay for reopen...</td>\n",
       "      <td>2020-09-03 14:01:50</td>\n",
       "    </tr>\n",
       "    <tr>\n",
       "      <th>1</th>\n",
       "      <td>2020-07-23 06:00:01</td>\n",
       "      <td>With the death of Congressman John Lewis, Amer...</td>\n",
       "      <td>www.newsweek.com</td>\n",
       "      <td>MLK III: In the Name of John Lewis, Let Us Res...</td>\n",
       "      <td>2020-07-23 06:00:01</td>\n",
       "    </tr>\n",
       "    <tr>\n",
       "      <th>2</th>\n",
       "      <td>2020-09-28 18:33:10</td>\n",
       "      <td>NEW You can now listen to Fox News articles!\\n...</td>\n",
       "      <td>www.foxnews.com</td>\n",
       "      <td>Wisconsin voters win protection against strict...</td>\n",
       "      <td>2020-09-28 18:33:10</td>\n",
       "    </tr>\n",
       "    <tr>\n",
       "      <th>3</th>\n",
       "      <td>2020-02-13 21:31:08</td>\n",
       "      <td>The decree will be enforced by a federal court...</td>\n",
       "      <td>www.nytimes.com</td>\n",
       "      <td>North Dakota Tribes Score Key Voting Rights Vi...</td>\n",
       "      <td>2020-02-13 21:31:08</td>\n",
       "    </tr>\n",
       "    <tr>\n",
       "      <th>4</th>\n",
       "      <td>2020-11-05 03:03:39</td>\n",
       "      <td>With concerns mounting over how the country ca...</td>\n",
       "      <td>www.nytimes.com</td>\n",
       "      <td>Trump Is Pushing a False Argument on Vote-by-M...</td>\n",
       "      <td>2020-11-05 03:03:39</td>\n",
       "    </tr>\n",
       "  </tbody>\n",
       "</table>\n",
       "</div>"
      ],
      "text/plain": [
       "          date_publish                                           maintext  \\\n",
       "0  2020-09-03 14:01:50  NEW You can now listen to Fox News articles!\\n...   \n",
       "1  2020-07-23 06:00:01  With the death of Congressman John Lewis, Amer...   \n",
       "2  2020-09-28 18:33:10  NEW You can now listen to Fox News articles!\\n...   \n",
       "3  2020-02-13 21:31:08  The decree will be enforced by a federal court...   \n",
       "4  2020-11-05 03:03:39  With concerns mounting over how the country ca...   \n",
       "\n",
       "      source_domain                                              title  \\\n",
       "0   www.foxnews.com  Arnold Schwarzenegger offers to pay for reopen...   \n",
       "1  www.newsweek.com  MLK III: In the Name of John Lewis, Let Us Res...   \n",
       "2   www.foxnews.com  Wisconsin voters win protection against strict...   \n",
       "3   www.nytimes.com  North Dakota Tribes Score Key Voting Rights Vi...   \n",
       "4   www.nytimes.com  Trump Is Pushing a False Argument on Vote-by-M...   \n",
       "\n",
       "                 Date  \n",
       "0 2020-09-03 14:01:50  \n",
       "1 2020-07-23 06:00:01  \n",
       "2 2020-09-28 18:33:10  \n",
       "3 2020-02-13 21:31:08  \n",
       "4 2020-11-05 03:03:39  "
      ]
     },
     "execution_count": 48,
     "metadata": {},
     "output_type": "execute_result"
    }
   ],
   "source": [
    "df[\"Date\"] = pd.to_datetime(df[\"date_publish\"])\n",
    "df.head()"
   ]
  }
 ],
 "metadata": {
  "interpreter": {
   "hash": "69226dc651b7fbb4cbb68815143d2221db9c2a369a5e9beb9597b16c0cffa010"
  },
  "kernelspec": {
   "display_name": "Python 3.9.10 64-bit (windows store)",
   "language": "python",
   "name": "python3"
  },
  "language_info": {
   "codemirror_mode": {
    "name": "ipython",
    "version": 3
   },
   "file_extension": ".py",
   "mimetype": "text/x-python",
   "name": "python",
   "nbconvert_exporter": "python",
   "pygments_lexer": "ipython3",
   "version": "3.9.12"
  },
  "orig_nbformat": 4
 },
 "nbformat": 4,
 "nbformat_minor": 2
}
