{
 "cells": [
  {
   "cell_type": "markdown",
   "metadata": {},
   "source": [
    "# Urls from Mediacloud to news articles:\n",
    "\n",
    "The following script blabla"
   ]
  },
  {
   "cell_type": "code",
   "execution_count": 2,
   "metadata": {},
   "outputs": [],
   "source": [
    "import pandas as pd "
   ]
  },
  {
   "cell_type": "code",
   "execution_count": 3,
   "metadata": {},
   "outputs": [
    {
     "data": {
      "text/html": [
       "<div>\n",
       "<style scoped>\n",
       "    .dataframe tbody tr th:only-of-type {\n",
       "        vertical-align: middle;\n",
       "    }\n",
       "\n",
       "    .dataframe tbody tr th {\n",
       "        vertical-align: top;\n",
       "    }\n",
       "\n",
       "    .dataframe thead th {\n",
       "        text-align: right;\n",
       "    }\n",
       "</style>\n",
       "<table border=\"1\" class=\"dataframe\">\n",
       "  <thead>\n",
       "    <tr style=\"text-align: right;\">\n",
       "      <th></th>\n",
       "      <th>stories_id</th>\n",
       "      <th>publish_date</th>\n",
       "      <th>title</th>\n",
       "      <th>url</th>\n",
       "      <th>language</th>\n",
       "      <th>ap_syndicated</th>\n",
       "      <th>themes</th>\n",
       "      <th>media_id</th>\n",
       "      <th>media_name</th>\n",
       "      <th>media_url</th>\n",
       "      <th>exclude_dupe</th>\n",
       "      <th>exclude_no_date</th>\n",
       "      <th>Date</th>\n",
       "      <th>mnth_yr</th>\n",
       "    </tr>\n",
       "  </thead>\n",
       "  <tbody>\n",
       "    <tr>\n",
       "      <th>0</th>\n",
       "      <td>318516682</td>\n",
       "      <td>2015-02-13 15:13:13</td>\n",
       "      <td>Republicans are pledging to win more of the bl...</td>\n",
       "      <td>http://feeds.voices.washingtonpost.com/c/34656...</td>\n",
       "      <td>en</td>\n",
       "      <td>False</td>\n",
       "      <td>NaN</td>\n",
       "      <td>2</td>\n",
       "      <td>Washington Post</td>\n",
       "      <td>http://washingtonpost.com</td>\n",
       "      <td>False</td>\n",
       "      <td>False</td>\n",
       "      <td>2015-02-13</td>\n",
       "      <td>13 February, 2015</td>\n",
       "    </tr>\n",
       "    <tr>\n",
       "      <th>1</th>\n",
       "      <td>318811193</td>\n",
       "      <td>2015-02-13 11:42:46</td>\n",
       "      <td>Elisabeth MacNamara:  6 Ways the League of Wom...</td>\n",
       "      <td>http://www.huffingtonpost.com/elisabeth-macnam...</td>\n",
       "      <td>en</td>\n",
       "      <td>False</td>\n",
       "      <td>NaN</td>\n",
       "      <td>27502</td>\n",
       "      <td>HuffPost</td>\n",
       "      <td>http://www.huffingtonpost.com/#</td>\n",
       "      <td>False</td>\n",
       "      <td>False</td>\n",
       "      <td>2015-02-13</td>\n",
       "      <td>13 February, 2015</td>\n",
       "    </tr>\n",
       "    <tr>\n",
       "      <th>2</th>\n",
       "      <td>319094668</td>\n",
       "      <td>2015-02-10 04:55:04</td>\n",
       "      <td>Robert M. Brandon:  Opportunities for Effectiv...</td>\n",
       "      <td>http://www.huffingtonpost.com/robert-m-brandon...</td>\n",
       "      <td>en</td>\n",
       "      <td>False</td>\n",
       "      <td>NaN</td>\n",
       "      <td>27502</td>\n",
       "      <td>HuffPost</td>\n",
       "      <td>http://www.huffingtonpost.com/#</td>\n",
       "      <td>False</td>\n",
       "      <td>False</td>\n",
       "      <td>2015-02-10</td>\n",
       "      <td>10 February, 2015</td>\n",
       "    </tr>\n",
       "    <tr>\n",
       "      <th>3</th>\n",
       "      <td>320942194</td>\n",
       "      <td>2015-02-22 11:42:46</td>\n",
       "      <td>Mary Bottari:  Scott Walker Pushes ALEC 'Right...</td>\n",
       "      <td>http://www.huffingtonpost.com/mary-bottari/sco...</td>\n",
       "      <td>en</td>\n",
       "      <td>False</td>\n",
       "      <td>NaN</td>\n",
       "      <td>27502</td>\n",
       "      <td>HuffPost</td>\n",
       "      <td>http://www.huffingtonpost.com/#</td>\n",
       "      <td>False</td>\n",
       "      <td>False</td>\n",
       "      <td>2015-02-22</td>\n",
       "      <td>22 February, 2015</td>\n",
       "    </tr>\n",
       "    <tr>\n",
       "      <th>4</th>\n",
       "      <td>321743370</td>\n",
       "      <td>2015-02-25 09:03:01</td>\n",
       "      <td>Ted Strickland Announces He's Running For The ...</td>\n",
       "      <td>http://www.huffingtonpost.com/2015/02/25/ted-s...</td>\n",
       "      <td>en</td>\n",
       "      <td>False</td>\n",
       "      <td>NaN</td>\n",
       "      <td>27502</td>\n",
       "      <td>HuffPost</td>\n",
       "      <td>http://www.huffingtonpost.com/#</td>\n",
       "      <td>False</td>\n",
       "      <td>False</td>\n",
       "      <td>2015-02-25</td>\n",
       "      <td>25 February, 2015</td>\n",
       "    </tr>\n",
       "  </tbody>\n",
       "</table>\n",
       "</div>"
      ],
      "text/plain": [
       "   stories_id         publish_date  \\\n",
       "0   318516682  2015-02-13 15:13:13   \n",
       "1   318811193  2015-02-13 11:42:46   \n",
       "2   319094668  2015-02-10 04:55:04   \n",
       "3   320942194  2015-02-22 11:42:46   \n",
       "4   321743370  2015-02-25 09:03:01   \n",
       "\n",
       "                                               title  \\\n",
       "0  Republicans are pledging to win more of the bl...   \n",
       "1  Elisabeth MacNamara:  6 Ways the League of Wom...   \n",
       "2  Robert M. Brandon:  Opportunities for Effectiv...   \n",
       "3  Mary Bottari:  Scott Walker Pushes ALEC 'Right...   \n",
       "4  Ted Strickland Announces He's Running For The ...   \n",
       "\n",
       "                                                 url language  ap_syndicated  \\\n",
       "0  http://feeds.voices.washingtonpost.com/c/34656...       en          False   \n",
       "1  http://www.huffingtonpost.com/elisabeth-macnam...       en          False   \n",
       "2  http://www.huffingtonpost.com/robert-m-brandon...       en          False   \n",
       "3  http://www.huffingtonpost.com/mary-bottari/sco...       en          False   \n",
       "4  http://www.huffingtonpost.com/2015/02/25/ted-s...       en          False   \n",
       "\n",
       "  themes  media_id       media_name                        media_url  \\\n",
       "0    NaN         2  Washington Post        http://washingtonpost.com   \n",
       "1    NaN     27502         HuffPost  http://www.huffingtonpost.com/#   \n",
       "2    NaN     27502         HuffPost  http://www.huffingtonpost.com/#   \n",
       "3    NaN     27502         HuffPost  http://www.huffingtonpost.com/#   \n",
       "4    NaN     27502         HuffPost  http://www.huffingtonpost.com/#   \n",
       "\n",
       "   exclude_dupe  exclude_no_date        Date            mnth_yr  \n",
       "0         False            False  2015-02-13  13 February, 2015  \n",
       "1         False            False  2015-02-13  13 February, 2015  \n",
       "2         False            False  2015-02-10  10 February, 2015  \n",
       "3         False            False  2015-02-22  22 February, 2015  \n",
       "4         False            False  2015-02-25  25 February, 2015  "
      ]
     },
     "execution_count": 3,
     "metadata": {},
     "output_type": "execute_result"
    }
   ],
   "source": [
    "# First, we load the url data retrieved from Mediacloud\n",
    "mc_urls = pd.read_csv('urls.csv')\n",
    "mc_urls.head() "
   ]
  },
  {
   "cell_type": "code",
   "execution_count": 4,
   "metadata": {},
   "outputs": [
    {
     "data": {
      "text/plain": [
       "4730"
      ]
     },
     "execution_count": 4,
     "metadata": {},
     "output_type": "execute_result"
    }
   ],
   "source": [
    "# We create a list of urls from pandas dataframe\n",
    "urls = mc_urls['url'].to_list()\n",
    "len(urls)"
   ]
  }
 ],
 "metadata": {
  "interpreter": {
   "hash": "69226dc651b7fbb4cbb68815143d2221db9c2a369a5e9beb9597b16c0cffa010"
  },
  "kernelspec": {
   "display_name": "Python 3.9.12 64-bit (windows store)",
   "language": "python",
   "name": "python3"
  },
  "language_info": {
   "codemirror_mode": {
    "name": "ipython",
    "version": 3
   },
   "file_extension": ".py",
   "mimetype": "text/x-python",
   "name": "python",
   "nbconvert_exporter": "python",
   "pygments_lexer": "ipython3",
   "version": "3.9.12"
  },
  "orig_nbformat": 4
 },
 "nbformat": 4,
 "nbformat_minor": 2
}
