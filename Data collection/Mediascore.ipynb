{
 "cells": [
  {
   "cell_type": "markdown",
   "metadata": {},
   "source": [
    "This script intends to do some overall media analysis"
   ]
  },
  {
   "cell_type": "code",
   "execution_count": 26,
   "metadata": {},
   "outputs": [],
   "source": [
    "from dotenv import load_dotenv\n",
    "import os, mediacloud.api\n",
    "import datetime\n",
    "import json\n",
    "import pandas as pd \n",
    "from IPython.display import JSON\n",
    "import mediacloud.tags\n",
    "import csv\n",
    "from tqdm import tqdm\n",
    "import requests\n",
    "\n",
    "\n"
   ]
  },
  {
   "cell_type": "code",
   "execution_count": 2,
   "metadata": {},
   "outputs": [
    {
     "data": {
      "text/plain": [
       "'3.12.5'"
      ]
     },
     "execution_count": 2,
     "metadata": {},
     "output_type": "execute_result"
    }
   ],
   "source": [
    "# Setting up\n",
    "mc = mediacloud.api.MediaCloud('439141f9647ae800fa099bf77e4297ea28fe3f2bbc2d64b1f2163ad52fd8fef2')\n",
    "mediacloud.__version__"
   ]
  },
  {
   "cell_type": "markdown",
   "metadata": {},
   "source": [
    "### Sources and Collections"
   ]
  },
  {
   "cell_type": "code",
   "execution_count": 13,
   "metadata": {},
   "outputs": [
    {
     "data": {
      "text/plain": [
       "[359084, 1149, 1551930, 1551932, 1551931, 1363107, 24743]"
      ]
     },
     "execution_count": 13,
     "metadata": {},
     "output_type": "execute_result"
    }
   ],
   "source": [
    "matching_sources = mc.mediaList(name_like='MSNBC', sort='num_stories')\n",
    "JSON(matching_sources)\n",
    "[m['media_id'] for m in matching_sources]"
   ]
  },
  {
   "cell_type": "markdown",
   "metadata": {},
   "source": [
    "### Counting stories"
   ]
  },
  {
   "cell_type": "code",
   "execution_count": 14,
   "metadata": {},
   "outputs": [
    {
     "data": {
      "text/plain": [
       "{'count': 1042}"
      ]
     },
     "execution_count": 14,
     "metadata": {},
     "output_type": "execute_result"
    }
   ],
   "source": [
    "# Set date range\n",
    "start_date = datetime.date(2021,1,1)\n",
    "end_date = datetime.date(2022,3,30)\n",
    "date_range = mc.dates_as_query_clause(start_date, end_date) # default is start & end inclusive\n",
    "\n",
    "# Right-wing media mentioning voter ID\n",
    "q_right = '(\"voter ID\" or \"voter identification\" or \"ID law\" or \"ID laws\" or \"voting ID\") and (media_id:1092 OR media_id:6443 OR media_id:101 OR media_id:7 OR media_id:19334 OR media_id:1150 OR media_id:18775 OR media_id:25649 media_id:1117)'\n",
    "mc.storyCount(q_right, date_range)"
   ]
  },
  {
   "cell_type": "code",
   "execution_count": 112,
   "metadata": {},
   "outputs": [
    {
     "data": {
      "text/plain": [
       "{'count': 563}"
      ]
     },
     "execution_count": 112,
     "metadata": {},
     "output_type": "execute_result"
    }
   ],
   "source": [
    "# check how many left-wing media mention voter ID\n",
    "q_left = '(\"voter ID\" or \"voter identification\" or \"ID law\" or \"ID laws\" or \"voting ID\") and (media_id:2 OR media_id:1 OR media_id:1149 OR media_id:1095 OR media_id:25499 OR media_id:4 OR media_id:104828 OR media_id:9 OR media_id:27502)'\n",
    "mc.storyCount(q_left, date_range)"
   ]
  },
  {
   "cell_type": "code",
   "execution_count": 140,
   "metadata": {},
   "outputs": [
    {
     "data": {
      "text/plain": [
       "{'count': 93}"
      ]
     },
     "execution_count": 140,
     "metadata": {},
     "output_type": "execute_result"
    }
   ],
   "source": [
    "mc.storyCount('(\"voter ID\" or \"voter identification\" or \"ID law\" or \"ID laws\" or \"voting ID\") and (media_id:2)', date_range)"
   ]
  },
  {
   "cell_type": "code",
   "execution_count": 143,
   "metadata": {},
   "outputs": [],
   "source": [
    "def get_outlet_story_count(media_id):\n",
    "    story_count = mc.storyCount(f'(\"voter ID\" or \"voter identification\" or \"ID law\" or \"ID laws\" or \"voting ID\") and (media_id:{media_id})', date_range)\n",
    "    return story_count"
   ]
  },
  {
   "cell_type": "code",
   "execution_count": null,
   "metadata": {},
   "outputs": [],
   "source": [
    "results = []\n",
    "for x in sources:\n",
    "    story_counts = get_outlet_story_count(x)\n",
    "    print(f\"The media ID {x} has {story_counts} expected stories\")"
   ]
  },
  {
   "cell_type": "code",
   "execution_count": 151,
   "metadata": {},
   "outputs": [
    {
     "name": "stdout",
     "output_type": "stream",
     "text": [
      "[93, 98, 20, 143, 36, 42, 28, 4, 99]\n"
     ]
    }
   ],
   "source": [
    "sources = [2, 1, 1149, 1095, 25499, 4, 104828, 9, 27502]\n",
    "results = []\n",
    "for x in sources:\n",
    "    story_counts = get_outlet_story_count(x)['count']\n",
    "    results.append(story_counts)\n",
    "\n",
    "print(results)"
   ]
  },
  {
   "cell_type": "code",
   "execution_count": 165,
   "metadata": {},
   "outputs": [
    {
     "data": {
      "text/html": [
       "<div>\n",
       "<style scoped>\n",
       "    .dataframe tbody tr th:only-of-type {\n",
       "        vertical-align: middle;\n",
       "    }\n",
       "\n",
       "    .dataframe tbody tr th {\n",
       "        vertical-align: top;\n",
       "    }\n",
       "\n",
       "    .dataframe thead th {\n",
       "        text-align: right;\n",
       "    }\n",
       "</style>\n",
       "<table border=\"1\" class=\"dataframe\">\n",
       "  <thead>\n",
       "    <tr style=\"text-align: right;\">\n",
       "      <th></th>\n",
       "      <th>media_id</th>\n",
       "      <th>story_count</th>\n",
       "    </tr>\n",
       "  </thead>\n",
       "  <tbody>\n",
       "    <tr>\n",
       "      <th>0</th>\n",
       "      <td>2</td>\n",
       "      <td>93</td>\n",
       "    </tr>\n",
       "    <tr>\n",
       "      <th>1</th>\n",
       "      <td>1</td>\n",
       "      <td>98</td>\n",
       "    </tr>\n",
       "    <tr>\n",
       "      <th>2</th>\n",
       "      <td>1149</td>\n",
       "      <td>20</td>\n",
       "    </tr>\n",
       "    <tr>\n",
       "      <th>3</th>\n",
       "      <td>1095</td>\n",
       "      <td>143</td>\n",
       "    </tr>\n",
       "    <tr>\n",
       "      <th>4</th>\n",
       "      <td>25499</td>\n",
       "      <td>36</td>\n",
       "    </tr>\n",
       "    <tr>\n",
       "      <th>5</th>\n",
       "      <td>4</td>\n",
       "      <td>42</td>\n",
       "    </tr>\n",
       "    <tr>\n",
       "      <th>6</th>\n",
       "      <td>104828</td>\n",
       "      <td>28</td>\n",
       "    </tr>\n",
       "    <tr>\n",
       "      <th>7</th>\n",
       "      <td>9</td>\n",
       "      <td>4</td>\n",
       "    </tr>\n",
       "    <tr>\n",
       "      <th>8</th>\n",
       "      <td>27502</td>\n",
       "      <td>99</td>\n",
       "    </tr>\n",
       "  </tbody>\n",
       "</table>\n",
       "</div>"
      ],
      "text/plain": [
       "   media_id  story_count\n",
       "0         2           93\n",
       "1         1           98\n",
       "2      1149           20\n",
       "3      1095          143\n",
       "4     25499           36\n",
       "5         4           42\n",
       "6    104828           28\n",
       "7         9            4\n",
       "8     27502           99"
      ]
     },
     "execution_count": 165,
     "metadata": {},
     "output_type": "execute_result"
    }
   ],
   "source": [
    "a=list(zip(sources, results))\n",
    "stories = pd.DataFrame(a, columns=['media_id', 'story_count'])\n",
    "stories"
   ]
  },
  {
   "cell_type": "code",
   "execution_count": 166,
   "metadata": {},
   "outputs": [
    {
     "data": {
      "text/plain": [
       "563"
      ]
     },
     "execution_count": 166,
     "metadata": {},
     "output_type": "execute_result"
    }
   ],
   "source": [
    "stories['story_count'].sum()"
   ]
  },
  {
   "cell_type": "code",
   "execution_count": null,
   "metadata": {},
   "outputs": [],
   "source": [
    "def get_outlet_story_count(mc, media_id, start_time, end_time):\n",
    "     \"\"\"\n",
    "     Args:\n",
    "         - mc (obj): a `mediacloud.api.MediaCloud` object already instantiated with the API key\n",
    "         - media_id (str): Media Cloud's media source ID for the outlet (https://sources.mediacloud.org/#/sources/[media_id])\n",
    "         - start_time (datetime)\n",
    "         - end_time (datetime)\n",
    "\n",
    "     Returns:\n",
    "         - story_count (int)\n",
    "     \"\"\"\n",
    "     date_range = mc.dates_as_query_clause(start_time, end_time-datetime.timedelta(days=1)) # default is start & end inclusive\n",
    "     story_count = mc.storyCount(f'media_id:{media_id}', date_range)['count']\n",
    "     return story_count"
   ]
  },
  {
   "cell_type": "markdown",
   "metadata": {},
   "source": [
    "### Getting stories"
   ]
  },
  {
   "cell_type": "code",
   "execution_count": 16,
   "metadata": {},
   "outputs": [],
   "source": [
    "# If we want to list ALL the stories matching, we need to page through the results. \n",
    "# This is accomplished via the last_processed_stories_id parameter. This code snippet pages through all the stories in a query.\n",
    "def all_matching_stories(mc_client, q, fq):\n",
    "    \"\"\"\n",
    "    Return all the stories matching a query within Media Cloud. Page through the results automatically.\n",
    "    :param mc_client: a `mediacloud.api.MediaCloud` object instantiated with your API key already\n",
    "    :param q: your boolean query\n",
    "    :param fq: your date range query\n",
    "    :return: a list of media cloud story items\n",
    "    \"\"\"\n",
    "    last_id = 0\n",
    "    more_stories = True\n",
    "    stories = []\n",
    "    while more_stories:\n",
    "        page = mc_client.storyList(q, fq, last_processed_stories_id=last_id, rows=500, sort='processed_stories_id')\n",
    "        print(\"  got one page with {} stories\".format(len(page)))\n",
    "        if len(page) == 0:\n",
    "            more_stories = False\n",
    "        else:\n",
    "            stories += page\n",
    "            last_id = page[-1]['processed_stories_id']\n",
    "    return stories"
   ]
  },
  {
   "cell_type": "code",
   "execution_count": 17,
   "metadata": {},
   "outputs": [
    {
     "name": "stdout",
     "output_type": "stream",
     "text": [
      "  got one page with 463 stories\n",
      "  got one page with 58 stories\n",
      "  got one page with 0 stories\n"
     ]
    },
    {
     "data": {
      "text/plain": [
       "521"
      ]
     },
     "execution_count": 17,
     "metadata": {},
     "output_type": "execute_result"
    }
   ],
   "source": [
    "# let's fetch all the stories matching our query (this can take a few minutes)\n",
    "left = all_matching_stories(mc, q_left, date_range)\n",
    "len(left)"
   ]
  },
  {
   "cell_type": "markdown",
   "metadata": {},
   "source": [
    "Writing a CSV of Story Data"
   ]
  },
  {
   "cell_type": "code",
   "execution_count": 20,
   "metadata": {},
   "outputs": [],
   "source": [
    "# first flatten things a little bit to make writing a CSV easier\n",
    "for s in left:\n",
    "    # see the \"language\" notebook for more details on themes\n",
    "    theme_tag_names = ','.join([t['tag'] for t in s['story_tags'] if t['tag_sets_id'] == mediacloud.tags.TAG_SET_NYT_THEMES])\n",
    "    s['themes'] = theme_tag_names\n",
    "# now write the CSV\n",
    "fieldnames = ['stories_id', 'publish_date', 'title', 'url', 'language', 'ap_syndicated', 'themes', 'media_id', 'media_name', 'media_url']\n",
    "with open('left.csv', 'w', newline='') as csvfile:\n",
    "    writer = csv.DictWriter(csvfile, fieldnames=fieldnames, extrasaction='ignore')\n",
    "    writer.writeheader()\n",
    "    for s in left:\n",
    "        writer.writerow(s)"
   ]
  },
  {
   "cell_type": "code",
   "execution_count": 89,
   "metadata": {},
   "outputs": [
    {
     "data": {
      "text/html": [
       "<div>\n",
       "<style scoped>\n",
       "    .dataframe tbody tr th:only-of-type {\n",
       "        vertical-align: middle;\n",
       "    }\n",
       "\n",
       "    .dataframe tbody tr th {\n",
       "        vertical-align: top;\n",
       "    }\n",
       "\n",
       "    .dataframe thead th {\n",
       "        text-align: right;\n",
       "    }\n",
       "</style>\n",
       "<table border=\"1\" class=\"dataframe\">\n",
       "  <thead>\n",
       "    <tr style=\"text-align: right;\">\n",
       "      <th></th>\n",
       "      <th>stories_id</th>\n",
       "      <th>publish_date</th>\n",
       "      <th>title</th>\n",
       "      <th>url</th>\n",
       "      <th>language</th>\n",
       "      <th>ap_syndicated</th>\n",
       "      <th>themes</th>\n",
       "      <th>media_id</th>\n",
       "      <th>media_name</th>\n",
       "      <th>media_url</th>\n",
       "    </tr>\n",
       "  </thead>\n",
       "  <tbody>\n",
       "    <tr>\n",
       "      <th>0</th>\n",
       "      <td>1813361379</td>\n",
       "      <td>2021-01-02 10:00:00</td>\n",
       "      <td>The U.S. needs a democracy overhaul. Here’s wh...</td>\n",
       "      <td>https://www.washingtonpost.com/opinions/the-us...</td>\n",
       "      <td>en</td>\n",
       "      <td>False</td>\n",
       "      <td>NaN</td>\n",
       "      <td>2</td>\n",
       "      <td>Washington Post</td>\n",
       "      <td>http://washingtonpost.com</td>\n",
       "    </tr>\n",
       "    <tr>\n",
       "      <th>1</th>\n",
       "      <td>1813641638</td>\n",
       "      <td>2021-01-03 00:12:49</td>\n",
       "      <td>Republican efforts to undermine Biden victory ...</td>\n",
       "      <td>http://rss.cnn.com/~r/rss/cnn_latest/~3/uWpq48...</td>\n",
       "      <td>en</td>\n",
       "      <td>False</td>\n",
       "      <td>NaN</td>\n",
       "      <td>1095</td>\n",
       "      <td>CNN</td>\n",
       "      <td>http://www.cnn.com/</td>\n",
       "    </tr>\n",
       "    <tr>\n",
       "      <th>2</th>\n",
       "      <td>1814219226</td>\n",
       "      <td>2021-01-03 23:21:39</td>\n",
       "      <td>Attorney On Trump’s Georgia Call Works With Gr...</td>\n",
       "      <td>https://www.huffpost.com/entry/cleta-mitchell-...</td>\n",
       "      <td>en</td>\n",
       "      <td>False</td>\n",
       "      <td>NaN</td>\n",
       "      <td>27502</td>\n",
       "      <td>HuffPost</td>\n",
       "      <td>http://www.huffingtonpost.com/#</td>\n",
       "    </tr>\n",
       "    <tr>\n",
       "      <th>3</th>\n",
       "      <td>1814688041</td>\n",
       "      <td>2021-01-04 11:09:11</td>\n",
       "      <td>In majority-Black Georgia county, voting in Se...</td>\n",
       "      <td>http://rss.cnn.com/~r/rss/cnn_latest/~3/rWPfMC...</td>\n",
       "      <td>en</td>\n",
       "      <td>False</td>\n",
       "      <td>NaN</td>\n",
       "      <td>1095</td>\n",
       "      <td>CNN</td>\n",
       "      <td>http://www.cnn.com/</td>\n",
       "    </tr>\n",
       "    <tr>\n",
       "      <th>4</th>\n",
       "      <td>1814917770</td>\n",
       "      <td>2021-01-04 17:07:25.947852</td>\n",
       "      <td>What you need to know about Brad Raffensperger</td>\n",
       "      <td>https://www.washingtonpost.com/politics/2021/0...</td>\n",
       "      <td>en</td>\n",
       "      <td>False</td>\n",
       "      <td>NaN</td>\n",
       "      <td>2</td>\n",
       "      <td>Washington Post</td>\n",
       "      <td>http://washingtonpost.com</td>\n",
       "    </tr>\n",
       "  </tbody>\n",
       "</table>\n",
       "</div>"
      ],
      "text/plain": [
       "   stories_id                publish_date  \\\n",
       "0  1813361379         2021-01-02 10:00:00   \n",
       "1  1813641638         2021-01-03 00:12:49   \n",
       "2  1814219226         2021-01-03 23:21:39   \n",
       "3  1814688041         2021-01-04 11:09:11   \n",
       "4  1814917770  2021-01-04 17:07:25.947852   \n",
       "\n",
       "                                               title  \\\n",
       "0  The U.S. needs a democracy overhaul. Here’s wh...   \n",
       "1  Republican efforts to undermine Biden victory ...   \n",
       "2  Attorney On Trump’s Georgia Call Works With Gr...   \n",
       "3  In majority-Black Georgia county, voting in Se...   \n",
       "4     What you need to know about Brad Raffensperger   \n",
       "\n",
       "                                                 url language  ap_syndicated  \\\n",
       "0  https://www.washingtonpost.com/opinions/the-us...       en          False   \n",
       "1  http://rss.cnn.com/~r/rss/cnn_latest/~3/uWpq48...       en          False   \n",
       "2  https://www.huffpost.com/entry/cleta-mitchell-...       en          False   \n",
       "3  http://rss.cnn.com/~r/rss/cnn_latest/~3/rWPfMC...       en          False   \n",
       "4  https://www.washingtonpost.com/politics/2021/0...       en          False   \n",
       "\n",
       "  themes  media_id       media_name                        media_url  \n",
       "0    NaN         2  Washington Post        http://washingtonpost.com  \n",
       "1    NaN      1095              CNN              http://www.cnn.com/  \n",
       "2    NaN     27502         HuffPost  http://www.huffingtonpost.com/#  \n",
       "3    NaN      1095              CNN              http://www.cnn.com/  \n",
       "4    NaN         2  Washington Post        http://washingtonpost.com  "
      ]
     },
     "execution_count": 89,
     "metadata": {},
     "output_type": "execute_result"
    }
   ],
   "source": [
    "import pandas\n",
    "left_corpus = pandas.read_csv('left.csv', encoding='cp1252')\n",
    "len(left_corpus)\n",
    "left_corpus.head()"
   ]
  },
  {
   "cell_type": "code",
   "execution_count": 118,
   "metadata": {},
   "outputs": [
    {
     "data": {
      "text/html": [
       "<div>\n",
       "<style scoped>\n",
       "    .dataframe tbody tr th:only-of-type {\n",
       "        vertical-align: middle;\n",
       "    }\n",
       "\n",
       "    .dataframe tbody tr th {\n",
       "        vertical-align: top;\n",
       "    }\n",
       "\n",
       "    .dataframe thead th {\n",
       "        text-align: right;\n",
       "    }\n",
       "</style>\n",
       "<table border=\"1\" class=\"dataframe\">\n",
       "  <thead>\n",
       "    <tr style=\"text-align: right;\">\n",
       "      <th></th>\n",
       "      <th>media_name</th>\n",
       "    </tr>\n",
       "  </thead>\n",
       "  <tbody>\n",
       "    <tr>\n",
       "      <th>CNN</th>\n",
       "      <td>136</td>\n",
       "    </tr>\n",
       "    <tr>\n",
       "      <th>New York Times</th>\n",
       "      <td>93</td>\n",
       "    </tr>\n",
       "    <tr>\n",
       "      <th>Washington Post</th>\n",
       "      <td>90</td>\n",
       "    </tr>\n",
       "    <tr>\n",
       "      <th>HuffPost</th>\n",
       "      <td>88</td>\n",
       "    </tr>\n",
       "    <tr>\n",
       "      <th>USA Today</th>\n",
       "      <td>35</td>\n",
       "    </tr>\n",
       "    <tr>\n",
       "      <th>NBC News</th>\n",
       "      <td>34</td>\n",
       "    </tr>\n",
       "    <tr>\n",
       "      <th>Vox</th>\n",
       "      <td>26</td>\n",
       "    </tr>\n",
       "    <tr>\n",
       "      <th>MSNBC</th>\n",
       "      <td>15</td>\n",
       "    </tr>\n",
       "    <tr>\n",
       "      <th>Chicago Tribune</th>\n",
       "      <td>4</td>\n",
       "    </tr>\n",
       "  </tbody>\n",
       "</table>\n",
       "</div>"
      ],
      "text/plain": [
       "                 media_name\n",
       "CNN                     136\n",
       "New York Times           93\n",
       "Washington Post          90\n",
       "HuffPost                 88\n",
       "USA Today                35\n",
       "NBC News                 34\n",
       "Vox                      26\n",
       "MSNBC                    15\n",
       "Chicago Tribune           4"
      ]
     },
     "execution_count": 118,
     "metadata": {},
     "output_type": "execute_result"
    }
   ],
   "source": [
    "domain = left_corpus['media_name'].value_counts()  #counting urls per news media source\n",
    "pd.DataFrame(domain)"
   ]
  },
  {
   "cell_type": "code",
   "execution_count": 119,
   "metadata": {},
   "outputs": [
    {
     "data": {
      "image/png": "[encoded data removed]",
      "text/plain": [
       "<Figure size 504x360 with 1 Axes>"
      ]
     },
     "metadata": {
      "needs_background": "light"
     },
     "output_type": "display_data"
    }
   ],
   "source": [
    "ax = domain.sort_index().plot(kind='bar', fontsize=14, figsize=(7,5)) # Counting articles per news source\n",
    "ax.set_title('Domain Article Count\\n', fontsize=20)\n",
    "ax.set_xlabel('Source', fontsize=18)\n",
    "ax.set_ylabel('Articles', fontsize=18);"
   ]
  },
  {
   "cell_type": "code",
   "execution_count": 90,
   "metadata": {},
   "outputs": [
    {
     "data": {
      "text/plain": [
       "521"
      ]
     },
     "execution_count": 90,
     "metadata": {},
     "output_type": "execute_result"
    }
   ],
   "source": [
    "# create list of urls from pandas dataframe\n",
    "urls = left_corpus['url'].to_list()\n",
    "len(urls)"
   ]
  },
  {
   "cell_type": "code",
   "execution_count": 91,
   "metadata": {},
   "outputs": [
    {
     "data": {
      "text/html": [
       "<div>\n",
       "<style scoped>\n",
       "    .dataframe tbody tr th:only-of-type {\n",
       "        vertical-align: middle;\n",
       "    }\n",
       "\n",
       "    .dataframe tbody tr th {\n",
       "        vertical-align: top;\n",
       "    }\n",
       "\n",
       "    .dataframe thead th {\n",
       "        text-align: right;\n",
       "    }\n",
       "</style>\n",
       "<table border=\"1\" class=\"dataframe\">\n",
       "  <thead>\n",
       "    <tr style=\"text-align: right;\">\n",
       "      <th></th>\n",
       "      <th>stories_id</th>\n",
       "      <th>publish_date</th>\n",
       "      <th>title</th>\n",
       "      <th>url</th>\n",
       "      <th>language</th>\n",
       "      <th>ap_syndicated</th>\n",
       "      <th>themes</th>\n",
       "      <th>media_id</th>\n",
       "      <th>media_name</th>\n",
       "      <th>media_url</th>\n",
       "    </tr>\n",
       "  </thead>\n",
       "  <tbody>\n",
       "    <tr>\n",
       "      <th>0</th>\n",
       "      <td>1813361379</td>\n",
       "      <td>2021-01-02 10:00:00</td>\n",
       "      <td>The U.S. needs a democracy overhaul. Here’s wh...</td>\n",
       "      <td>https://www.washingtonpost.com/opinions/the-us...</td>\n",
       "      <td>en</td>\n",
       "      <td>False</td>\n",
       "      <td>NaN</td>\n",
       "      <td>2</td>\n",
       "      <td>Washington Post</td>\n",
       "      <td>http://washingtonpost.com</td>\n",
       "    </tr>\n",
       "    <tr>\n",
       "      <th>1</th>\n",
       "      <td>1813641638</td>\n",
       "      <td>2021-01-03 00:12:49</td>\n",
       "      <td>Republican efforts to undermine Biden victory ...</td>\n",
       "      <td>http://rss.cnn.com/~r/rss/cnn_latest/~3/uWpq48...</td>\n",
       "      <td>en</td>\n",
       "      <td>False</td>\n",
       "      <td>NaN</td>\n",
       "      <td>1095</td>\n",
       "      <td>CNN</td>\n",
       "      <td>http://www.cnn.com/</td>\n",
       "    </tr>\n",
       "    <tr>\n",
       "      <th>2</th>\n",
       "      <td>1814219226</td>\n",
       "      <td>2021-01-03 23:21:39</td>\n",
       "      <td>Attorney On Trump’s Georgia Call Works With Gr...</td>\n",
       "      <td>https://www.huffpost.com/entry/cleta-mitchell-...</td>\n",
       "      <td>en</td>\n",
       "      <td>False</td>\n",
       "      <td>NaN</td>\n",
       "      <td>27502</td>\n",
       "      <td>HuffPost</td>\n",
       "      <td>http://www.huffingtonpost.com/#</td>\n",
       "    </tr>\n",
       "    <tr>\n",
       "      <th>3</th>\n",
       "      <td>1814688041</td>\n",
       "      <td>2021-01-04 11:09:11</td>\n",
       "      <td>In majority-Black Georgia county, voting in Se...</td>\n",
       "      <td>http://rss.cnn.com/~r/rss/cnn_latest/~3/rWPfMC...</td>\n",
       "      <td>en</td>\n",
       "      <td>False</td>\n",
       "      <td>NaN</td>\n",
       "      <td>1095</td>\n",
       "      <td>CNN</td>\n",
       "      <td>http://www.cnn.com/</td>\n",
       "    </tr>\n",
       "    <tr>\n",
       "      <th>4</th>\n",
       "      <td>1814917770</td>\n",
       "      <td>2021-01-04 17:07:25.947852</td>\n",
       "      <td>What you need to know about Brad Raffensperger</td>\n",
       "      <td>https://www.washingtonpost.com/politics/2021/0...</td>\n",
       "      <td>en</td>\n",
       "      <td>False</td>\n",
       "      <td>NaN</td>\n",
       "      <td>2</td>\n",
       "      <td>Washington Post</td>\n",
       "      <td>http://washingtonpost.com</td>\n",
       "    </tr>\n",
       "  </tbody>\n",
       "</table>\n",
       "</div>"
      ],
      "text/plain": [
       "   stories_id                publish_date  \\\n",
       "0  1813361379         2021-01-02 10:00:00   \n",
       "1  1813641638         2021-01-03 00:12:49   \n",
       "2  1814219226         2021-01-03 23:21:39   \n",
       "3  1814688041         2021-01-04 11:09:11   \n",
       "4  1814917770  2021-01-04 17:07:25.947852   \n",
       "\n",
       "                                               title  \\\n",
       "0  The U.S. needs a democracy overhaul. Here’s wh...   \n",
       "1  Republican efforts to undermine Biden victory ...   \n",
       "2  Attorney On Trump’s Georgia Call Works With Gr...   \n",
       "3  In majority-Black Georgia county, voting in Se...   \n",
       "4     What you need to know about Brad Raffensperger   \n",
       "\n",
       "                                                 url language  ap_syndicated  \\\n",
       "0  https://www.washingtonpost.com/opinions/the-us...       en          False   \n",
       "1  http://rss.cnn.com/~r/rss/cnn_latest/~3/uWpq48...       en          False   \n",
       "2  https://www.huffpost.com/entry/cleta-mitchell-...       en          False   \n",
       "3  http://rss.cnn.com/~r/rss/cnn_latest/~3/rWPfMC...       en          False   \n",
       "4  https://www.washingtonpost.com/politics/2021/0...       en          False   \n",
       "\n",
       "  themes  media_id       media_name                        media_url  \n",
       "0    NaN         2  Washington Post        http://washingtonpost.com  \n",
       "1    NaN      1095              CNN              http://www.cnn.com/  \n",
       "2    NaN     27502         HuffPost  http://www.huffingtonpost.com/#  \n",
       "3    NaN      1095              CNN              http://www.cnn.com/  \n",
       "4    NaN         2  Washington Post        http://washingtonpost.com  "
      ]
     },
     "execution_count": 91,
     "metadata": {},
     "output_type": "execute_result"
    }
   ],
   "source": [
    "left_corpus.head()"
   ]
  },
  {
   "cell_type": "markdown",
   "metadata": {},
   "source": [
    "### Converting publish_date to datetime"
   ]
  },
  {
   "cell_type": "code",
   "execution_count": null,
   "metadata": {},
   "outputs": [],
   "source": [
    "# checking type for publish_date\n",
    "left_corpus.info()\n"
   ]
  },
  {
   "cell_type": "code",
   "execution_count": 93,
   "metadata": {},
   "outputs": [],
   "source": [
    "# left_corpus.rename(columns={'publish_date': 'Date'}) #renaming date column\n",
    "left_corpus['Date'] = pd.to_datetime(left_corpus['publish_date']) # converting publish_date to datetime"
   ]
  },
  {
   "cell_type": "code",
   "execution_count": 94,
   "metadata": {},
   "outputs": [
    {
     "data": {
      "text/html": [
       "<div>\n",
       "<style scoped>\n",
       "    .dataframe tbody tr th:only-of-type {\n",
       "        vertical-align: middle;\n",
       "    }\n",
       "\n",
       "    .dataframe tbody tr th {\n",
       "        vertical-align: top;\n",
       "    }\n",
       "\n",
       "    .dataframe thead th {\n",
       "        text-align: right;\n",
       "    }\n",
       "</style>\n",
       "<table border=\"1\" class=\"dataframe\">\n",
       "  <thead>\n",
       "    <tr style=\"text-align: right;\">\n",
       "      <th></th>\n",
       "      <th>stories_id</th>\n",
       "      <th>publish_date</th>\n",
       "      <th>title</th>\n",
       "      <th>url</th>\n",
       "      <th>language</th>\n",
       "      <th>ap_syndicated</th>\n",
       "      <th>themes</th>\n",
       "      <th>media_id</th>\n",
       "      <th>media_name</th>\n",
       "      <th>media_url</th>\n",
       "      <th>Date</th>\n",
       "      <th>mnth_yr</th>\n",
       "    </tr>\n",
       "  </thead>\n",
       "  <tbody>\n",
       "    <tr>\n",
       "      <th>0</th>\n",
       "      <td>1813361379</td>\n",
       "      <td>2021-01-02 10:00:00</td>\n",
       "      <td>The U.S. needs a democracy overhaul. Here’s wh...</td>\n",
       "      <td>https://www.washingtonpost.com/opinions/the-us...</td>\n",
       "      <td>en</td>\n",
       "      <td>False</td>\n",
       "      <td>NaN</td>\n",
       "      <td>2</td>\n",
       "      <td>Washington Post</td>\n",
       "      <td>http://washingtonpost.com</td>\n",
       "      <td>2021-01-02</td>\n",
       "      <td>02 January, 2021</td>\n",
       "    </tr>\n",
       "    <tr>\n",
       "      <th>1</th>\n",
       "      <td>1813641638</td>\n",
       "      <td>2021-01-03 00:12:49</td>\n",
       "      <td>Republican efforts to undermine Biden victory ...</td>\n",
       "      <td>http://rss.cnn.com/~r/rss/cnn_latest/~3/uWpq48...</td>\n",
       "      <td>en</td>\n",
       "      <td>False</td>\n",
       "      <td>NaN</td>\n",
       "      <td>1095</td>\n",
       "      <td>CNN</td>\n",
       "      <td>http://www.cnn.com/</td>\n",
       "      <td>2021-01-03</td>\n",
       "      <td>03 January, 2021</td>\n",
       "    </tr>\n",
       "    <tr>\n",
       "      <th>2</th>\n",
       "      <td>1814219226</td>\n",
       "      <td>2021-01-03 23:21:39</td>\n",
       "      <td>Attorney On Trump’s Georgia Call Works With Gr...</td>\n",
       "      <td>https://www.huffpost.com/entry/cleta-mitchell-...</td>\n",
       "      <td>en</td>\n",
       "      <td>False</td>\n",
       "      <td>NaN</td>\n",
       "      <td>27502</td>\n",
       "      <td>HuffPost</td>\n",
       "      <td>http://www.huffingtonpost.com/#</td>\n",
       "      <td>2021-01-03</td>\n",
       "      <td>03 January, 2021</td>\n",
       "    </tr>\n",
       "    <tr>\n",
       "      <th>3</th>\n",
       "      <td>1814688041</td>\n",
       "      <td>2021-01-04 11:09:11</td>\n",
       "      <td>In majority-Black Georgia county, voting in Se...</td>\n",
       "      <td>http://rss.cnn.com/~r/rss/cnn_latest/~3/rWPfMC...</td>\n",
       "      <td>en</td>\n",
       "      <td>False</td>\n",
       "      <td>NaN</td>\n",
       "      <td>1095</td>\n",
       "      <td>CNN</td>\n",
       "      <td>http://www.cnn.com/</td>\n",
       "      <td>2021-01-04</td>\n",
       "      <td>04 January, 2021</td>\n",
       "    </tr>\n",
       "    <tr>\n",
       "      <th>4</th>\n",
       "      <td>1814917770</td>\n",
       "      <td>2021-01-04 17:07:25.947852</td>\n",
       "      <td>What you need to know about Brad Raffensperger</td>\n",
       "      <td>https://www.washingtonpost.com/politics/2021/0...</td>\n",
       "      <td>en</td>\n",
       "      <td>False</td>\n",
       "      <td>NaN</td>\n",
       "      <td>2</td>\n",
       "      <td>Washington Post</td>\n",
       "      <td>http://washingtonpost.com</td>\n",
       "      <td>2021-01-04</td>\n",
       "      <td>04 January, 2021</td>\n",
       "    </tr>\n",
       "  </tbody>\n",
       "</table>\n",
       "</div>"
      ],
      "text/plain": [
       "   stories_id                publish_date  \\\n",
       "0  1813361379         2021-01-02 10:00:00   \n",
       "1  1813641638         2021-01-03 00:12:49   \n",
       "2  1814219226         2021-01-03 23:21:39   \n",
       "3  1814688041         2021-01-04 11:09:11   \n",
       "4  1814917770  2021-01-04 17:07:25.947852   \n",
       "\n",
       "                                               title  \\\n",
       "0  The U.S. needs a democracy overhaul. Here’s wh...   \n",
       "1  Republican efforts to undermine Biden victory ...   \n",
       "2  Attorney On Trump’s Georgia Call Works With Gr...   \n",
       "3  In majority-Black Georgia county, voting in Se...   \n",
       "4     What you need to know about Brad Raffensperger   \n",
       "\n",
       "                                                 url language  ap_syndicated  \\\n",
       "0  https://www.washingtonpost.com/opinions/the-us...       en          False   \n",
       "1  http://rss.cnn.com/~r/rss/cnn_latest/~3/uWpq48...       en          False   \n",
       "2  https://www.huffpost.com/entry/cleta-mitchell-...       en          False   \n",
       "3  http://rss.cnn.com/~r/rss/cnn_latest/~3/rWPfMC...       en          False   \n",
       "4  https://www.washingtonpost.com/politics/2021/0...       en          False   \n",
       "\n",
       "  themes  media_id       media_name                        media_url  \\\n",
       "0    NaN         2  Washington Post        http://washingtonpost.com   \n",
       "1    NaN      1095              CNN              http://www.cnn.com/   \n",
       "2    NaN     27502         HuffPost  http://www.huffingtonpost.com/#   \n",
       "3    NaN      1095              CNN              http://www.cnn.com/   \n",
       "4    NaN         2  Washington Post        http://washingtonpost.com   \n",
       "\n",
       "        Date           mnth_yr  \n",
       "0 2021-01-02  02 January, 2021  \n",
       "1 2021-01-03  03 January, 2021  \n",
       "2 2021-01-03  03 January, 2021  \n",
       "3 2021-01-04  04 January, 2021  \n",
       "4 2021-01-04  04 January, 2021  "
      ]
     },
     "execution_count": 94,
     "metadata": {},
     "output_type": "execute_result"
    }
   ],
   "source": [
    "left_corpus['mnth_yr'] = left_corpus['Date'].apply(lambda x: x.strftime('%d %B, %Y')) # converting datetime to string with day, month, year\n",
    "left_corpus['Date'] = pandas.to_datetime(left_corpus['mnth_yr']) # converting string to simplified datetime column\n",
    "left_corpus.head()"
   ]
  },
  {
   "cell_type": "code",
   "execution_count": 103,
   "metadata": {},
   "outputs": [
    {
     "data": {
      "text/html": [
       "<div>\n",
       "<style scoped>\n",
       "    .dataframe tbody tr th:only-of-type {\n",
       "        vertical-align: middle;\n",
       "    }\n",
       "\n",
       "    .dataframe tbody tr th {\n",
       "        vertical-align: top;\n",
       "    }\n",
       "\n",
       "    .dataframe thead th {\n",
       "        text-align: right;\n",
       "    }\n",
       "</style>\n",
       "<table border=\"1\" class=\"dataframe\">\n",
       "  <thead>\n",
       "    <tr style=\"text-align: right;\">\n",
       "      <th></th>\n",
       "      <th>stories_id</th>\n",
       "      <th>publish_date</th>\n",
       "      <th>title</th>\n",
       "      <th>url</th>\n",
       "      <th>language</th>\n",
       "      <th>ap_syndicated</th>\n",
       "      <th>themes</th>\n",
       "      <th>media_id</th>\n",
       "      <th>media_name</th>\n",
       "      <th>media_url</th>\n",
       "      <th>Date</th>\n",
       "      <th>mnth_yr</th>\n",
       "      <th>Date_string</th>\n",
       "      <th>exclude_dupe</th>\n",
       "      <th>exclude_no_date</th>\n",
       "    </tr>\n",
       "  </thead>\n",
       "  <tbody>\n",
       "    <tr>\n",
       "      <th>0</th>\n",
       "      <td>1813361379</td>\n",
       "      <td>2021-01-02 10:00:00</td>\n",
       "      <td>The U.S. needs a democracy overhaul. Here’s wh...</td>\n",
       "      <td>https://www.washingtonpost.com/opinions/the-us...</td>\n",
       "      <td>en</td>\n",
       "      <td>False</td>\n",
       "      <td>NaN</td>\n",
       "      <td>2</td>\n",
       "      <td>Washington Post</td>\n",
       "      <td>http://washingtonpost.com</td>\n",
       "      <td>2021-01-02</td>\n",
       "      <td>02 January, 2021</td>\n",
       "      <td>2021-01-02</td>\n",
       "      <td>False</td>\n",
       "      <td>False</td>\n",
       "    </tr>\n",
       "    <tr>\n",
       "      <th>1</th>\n",
       "      <td>1813641638</td>\n",
       "      <td>2021-01-03 00:12:49</td>\n",
       "      <td>Republican efforts to undermine Biden victory ...</td>\n",
       "      <td>http://rss.cnn.com/~r/rss/cnn_latest/~3/uWpq48...</td>\n",
       "      <td>en</td>\n",
       "      <td>False</td>\n",
       "      <td>NaN</td>\n",
       "      <td>1095</td>\n",
       "      <td>CNN</td>\n",
       "      <td>http://www.cnn.com/</td>\n",
       "      <td>2021-01-03</td>\n",
       "      <td>03 January, 2021</td>\n",
       "      <td>2021-01-03</td>\n",
       "      <td>False</td>\n",
       "      <td>False</td>\n",
       "    </tr>\n",
       "    <tr>\n",
       "      <th>2</th>\n",
       "      <td>1814219226</td>\n",
       "      <td>2021-01-03 23:21:39</td>\n",
       "      <td>Attorney On Trump’s Georgia Call Works With Gr...</td>\n",
       "      <td>https://www.huffpost.com/entry/cleta-mitchell-...</td>\n",
       "      <td>en</td>\n",
       "      <td>False</td>\n",
       "      <td>NaN</td>\n",
       "      <td>27502</td>\n",
       "      <td>HuffPost</td>\n",
       "      <td>http://www.huffingtonpost.com/#</td>\n",
       "      <td>2021-01-03</td>\n",
       "      <td>03 January, 2021</td>\n",
       "      <td>2021-01-03</td>\n",
       "      <td>False</td>\n",
       "      <td>False</td>\n",
       "    </tr>\n",
       "    <tr>\n",
       "      <th>3</th>\n",
       "      <td>1814688041</td>\n",
       "      <td>2021-01-04 11:09:11</td>\n",
       "      <td>In majority-Black Georgia county, voting in Se...</td>\n",
       "      <td>http://rss.cnn.com/~r/rss/cnn_latest/~3/rWPfMC...</td>\n",
       "      <td>en</td>\n",
       "      <td>False</td>\n",
       "      <td>NaN</td>\n",
       "      <td>1095</td>\n",
       "      <td>CNN</td>\n",
       "      <td>http://www.cnn.com/</td>\n",
       "      <td>2021-01-04</td>\n",
       "      <td>04 January, 2021</td>\n",
       "      <td>2021-01-04</td>\n",
       "      <td>False</td>\n",
       "      <td>False</td>\n",
       "    </tr>\n",
       "    <tr>\n",
       "      <th>4</th>\n",
       "      <td>1814917770</td>\n",
       "      <td>2021-01-04 17:07:25.947852</td>\n",
       "      <td>What you need to know about Brad Raffensperger</td>\n",
       "      <td>https://www.washingtonpost.com/politics/2021/0...</td>\n",
       "      <td>en</td>\n",
       "      <td>False</td>\n",
       "      <td>NaN</td>\n",
       "      <td>2</td>\n",
       "      <td>Washington Post</td>\n",
       "      <td>http://washingtonpost.com</td>\n",
       "      <td>2021-01-04</td>\n",
       "      <td>04 January, 2021</td>\n",
       "      <td>2021-01-04</td>\n",
       "      <td>False</td>\n",
       "      <td>False</td>\n",
       "    </tr>\n",
       "  </tbody>\n",
       "</table>\n",
       "</div>"
      ],
      "text/plain": [
       "   stories_id                publish_date  \\\n",
       "0  1813361379         2021-01-02 10:00:00   \n",
       "1  1813641638         2021-01-03 00:12:49   \n",
       "2  1814219226         2021-01-03 23:21:39   \n",
       "3  1814688041         2021-01-04 11:09:11   \n",
       "4  1814917770  2021-01-04 17:07:25.947852   \n",
       "\n",
       "                                               title  \\\n",
       "0  The U.S. needs a democracy overhaul. Here’s wh...   \n",
       "1  Republican efforts to undermine Biden victory ...   \n",
       "2  Attorney On Trump’s Georgia Call Works With Gr...   \n",
       "3  In majority-Black Georgia county, voting in Se...   \n",
       "4     What you need to know about Brad Raffensperger   \n",
       "\n",
       "                                                 url language  ap_syndicated  \\\n",
       "0  https://www.washingtonpost.com/opinions/the-us...       en          False   \n",
       "1  http://rss.cnn.com/~r/rss/cnn_latest/~3/uWpq48...       en          False   \n",
       "2  https://www.huffpost.com/entry/cleta-mitchell-...       en          False   \n",
       "3  http://rss.cnn.com/~r/rss/cnn_latest/~3/rWPfMC...       en          False   \n",
       "4  https://www.washingtonpost.com/politics/2021/0...       en          False   \n",
       "\n",
       "  themes media_id       media_name                        media_url  \\\n",
       "0    NaN        2  Washington Post        http://washingtonpost.com   \n",
       "1    NaN     1095              CNN              http://www.cnn.com/   \n",
       "2    NaN    27502         HuffPost  http://www.huffingtonpost.com/#   \n",
       "3    NaN     1095              CNN              http://www.cnn.com/   \n",
       "4    NaN        2  Washington Post        http://washingtonpost.com   \n",
       "\n",
       "        Date           mnth_yr Date_string  exclude_dupe  exclude_no_date  \n",
       "0 2021-01-02  02 January, 2021  2021-01-02         False            False  \n",
       "1 2021-01-03  03 January, 2021  2021-01-03         False            False  \n",
       "2 2021-01-03  03 January, 2021  2021-01-03         False            False  \n",
       "3 2021-01-04  04 January, 2021  2021-01-04         False            False  \n",
       "4 2021-01-04  04 January, 2021  2021-01-04         False            False  "
      ]
     },
     "execution_count": 103,
     "metadata": {},
     "output_type": "execute_result"
    }
   ],
   "source": [
    "# fix data types\n",
    "left_corpus['stories_id'] = left_corpus['stories_id'].astype('str')\n",
    "left_corpus['media_id'] = left_corpus['media_id'].astype('str')\n",
    "left_corpus.head()"
   ]
  },
  {
   "cell_type": "code",
   "execution_count": 104,
   "metadata": {},
   "outputs": [
    {
     "data": {
      "text/plain": [
       "521"
      ]
     },
     "execution_count": 104,
     "metadata": {},
     "output_type": "execute_result"
    }
   ],
   "source": [
    "# Find and remove duplicates or articles without a date\n",
    "left_corpus['exclude_dupe'] = left_corpus.duplicated(subset=['title', 'url'])\n",
    "left_corpus['exclude_no_date'] = left_corpus['publish_date'].isna() # NaT\n",
    "left_corpus_filtered = left_corpus.loc[(~left_corpus['exclude_dupe']) & (~left_corpus['exclude_no_date'])]\n",
    "len(left_corpus_filtered)"
   ]
  },
  {
   "cell_type": "markdown",
   "metadata": {},
   "source": [
    "### Checking min and max retrieved dates per outlet"
   ]
  },
  {
   "cell_type": "code",
   "execution_count": 218,
   "metadata": {},
   "outputs": [],
   "source": [
    "dfr_dates = left_corpus.groupby('media_id').agg({'Date': ['min', 'max']}).reset_index()\n",
    "dfr_dates.columns = dfr_dates.columns.to_flat_index()\n"
   ]
  },
  {
   "cell_type": "code",
   "execution_count": 219,
   "metadata": {},
   "outputs": [],
   "source": [
    "dfr_dates = dfr_dates.rename(columns={dfr_dates.columns[0]: \"media_id\",\n",
    "                                      dfr_dates.columns[1]: \"min_retrieved_date\",\n",
    "                                      dfr_dates.columns[2]: \"max_retrieved_date\"})"
   ]
  },
  {
   "cell_type": "code",
   "execution_count": 220,
   "metadata": {},
   "outputs": [
    {
     "data": {
      "text/html": [
       "<div>\n",
       "<style scoped>\n",
       "    .dataframe tbody tr th:only-of-type {\n",
       "        vertical-align: middle;\n",
       "    }\n",
       "\n",
       "    .dataframe tbody tr th {\n",
       "        vertical-align: top;\n",
       "    }\n",
       "\n",
       "    .dataframe thead th {\n",
       "        text-align: right;\n",
       "    }\n",
       "</style>\n",
       "<table border=\"1\" class=\"dataframe\">\n",
       "  <thead>\n",
       "    <tr style=\"text-align: right;\">\n",
       "      <th></th>\n",
       "      <th>media_id</th>\n",
       "      <th>min_retrieved_date</th>\n",
       "      <th>max_retrieved_date</th>\n",
       "    </tr>\n",
       "  </thead>\n",
       "  <tbody>\n",
       "    <tr>\n",
       "      <th>0</th>\n",
       "      <td>1</td>\n",
       "      <td>2021-01-14</td>\n",
       "      <td>2022-03-09</td>\n",
       "    </tr>\n",
       "    <tr>\n",
       "      <th>1</th>\n",
       "      <td>104828</td>\n",
       "      <td>2021-01-06</td>\n",
       "      <td>2022-03-16</td>\n",
       "    </tr>\n",
       "    <tr>\n",
       "      <th>2</th>\n",
       "      <td>1095</td>\n",
       "      <td>2021-01-03</td>\n",
       "      <td>2022-03-22</td>\n",
       "    </tr>\n",
       "    <tr>\n",
       "      <th>3</th>\n",
       "      <td>1149</td>\n",
       "      <td>2021-01-29</td>\n",
       "      <td>2022-03-21</td>\n",
       "    </tr>\n",
       "    <tr>\n",
       "      <th>4</th>\n",
       "      <td>2</td>\n",
       "      <td>2021-01-02</td>\n",
       "      <td>2022-03-18</td>\n",
       "    </tr>\n",
       "    <tr>\n",
       "      <th>5</th>\n",
       "      <td>25499</td>\n",
       "      <td>2021-01-29</td>\n",
       "      <td>2022-03-21</td>\n",
       "    </tr>\n",
       "    <tr>\n",
       "      <th>6</th>\n",
       "      <td>27502</td>\n",
       "      <td>2021-01-03</td>\n",
       "      <td>2022-02-10</td>\n",
       "    </tr>\n",
       "    <tr>\n",
       "      <th>7</th>\n",
       "      <td>4</td>\n",
       "      <td>2021-01-06</td>\n",
       "      <td>2021-09-14</td>\n",
       "    </tr>\n",
       "    <tr>\n",
       "      <th>8</th>\n",
       "      <td>9</td>\n",
       "      <td>2021-01-31</td>\n",
       "      <td>2021-06-17</td>\n",
       "    </tr>\n",
       "  </tbody>\n",
       "</table>\n",
       "</div>"
      ],
      "text/plain": [
       "  media_id min_retrieved_date max_retrieved_date\n",
       "0        1         2021-01-14         2022-03-09\n",
       "1   104828         2021-01-06         2022-03-16\n",
       "2     1095         2021-01-03         2022-03-22\n",
       "3     1149         2021-01-29         2022-03-21\n",
       "4        2         2021-01-02         2022-03-18\n",
       "5    25499         2021-01-29         2022-03-21\n",
       "6    27502         2021-01-03         2022-02-10\n",
       "7        4         2021-01-06         2021-09-14\n",
       "8        9         2021-01-31         2021-06-17"
      ]
     },
     "execution_count": 220,
     "metadata": {},
     "output_type": "execute_result"
    }
   ],
   "source": [
    "dfr_dates"
   ]
  },
  {
   "cell_type": "markdown",
   "metadata": {},
   "source": [
    "### Checking differences between storycount and retrieved count"
   ]
  },
  {
   "cell_type": "code",
   "execution_count": 223,
   "metadata": {},
   "outputs": [],
   "source": [
    "dfr_count = pd.DataFrame(left_corpus.value_counts('media_id')).reset_index().rename(columns={0:'retrieved_count'})"
   ]
  },
  {
   "cell_type": "code",
   "execution_count": 224,
   "metadata": {},
   "outputs": [],
   "source": [
    "dfr_count['media_id'] = dfr_count['media_id'].astype('str')\n",
    "stories['media_id'] = stories['media_id'].astype('str')"
   ]
  },
  {
   "cell_type": "code",
   "execution_count": 225,
   "metadata": {},
   "outputs": [
    {
     "data": {
      "text/html": [
       "<div>\n",
       "<style scoped>\n",
       "    .dataframe tbody tr th:only-of-type {\n",
       "        vertical-align: middle;\n",
       "    }\n",
       "\n",
       "    .dataframe tbody tr th {\n",
       "        vertical-align: top;\n",
       "    }\n",
       "\n",
       "    .dataframe thead th {\n",
       "        text-align: right;\n",
       "    }\n",
       "</style>\n",
       "<table border=\"1\" class=\"dataframe\">\n",
       "  <thead>\n",
       "    <tr style=\"text-align: right;\">\n",
       "      <th></th>\n",
       "      <th>media_id</th>\n",
       "      <th>story_count</th>\n",
       "      <th>retrieved_count</th>\n",
       "    </tr>\n",
       "  </thead>\n",
       "  <tbody>\n",
       "    <tr>\n",
       "      <th>0</th>\n",
       "      <td>2</td>\n",
       "      <td>93</td>\n",
       "      <td>90</td>\n",
       "    </tr>\n",
       "    <tr>\n",
       "      <th>1</th>\n",
       "      <td>1</td>\n",
       "      <td>98</td>\n",
       "      <td>93</td>\n",
       "    </tr>\n",
       "    <tr>\n",
       "      <th>2</th>\n",
       "      <td>1149</td>\n",
       "      <td>20</td>\n",
       "      <td>15</td>\n",
       "    </tr>\n",
       "    <tr>\n",
       "      <th>3</th>\n",
       "      <td>1095</td>\n",
       "      <td>143</td>\n",
       "      <td>136</td>\n",
       "    </tr>\n",
       "    <tr>\n",
       "      <th>4</th>\n",
       "      <td>25499</td>\n",
       "      <td>36</td>\n",
       "      <td>34</td>\n",
       "    </tr>\n",
       "    <tr>\n",
       "      <th>5</th>\n",
       "      <td>4</td>\n",
       "      <td>42</td>\n",
       "      <td>35</td>\n",
       "    </tr>\n",
       "    <tr>\n",
       "      <th>6</th>\n",
       "      <td>104828</td>\n",
       "      <td>28</td>\n",
       "      <td>26</td>\n",
       "    </tr>\n",
       "    <tr>\n",
       "      <th>7</th>\n",
       "      <td>9</td>\n",
       "      <td>4</td>\n",
       "      <td>4</td>\n",
       "    </tr>\n",
       "    <tr>\n",
       "      <th>8</th>\n",
       "      <td>27502</td>\n",
       "      <td>99</td>\n",
       "      <td>88</td>\n",
       "    </tr>\n",
       "  </tbody>\n",
       "</table>\n",
       "</div>"
      ],
      "text/plain": [
       "  media_id  story_count  retrieved_count\n",
       "0        2           93               90\n",
       "1        1           98               93\n",
       "2     1149           20               15\n",
       "3     1095          143              136\n",
       "4    25499           36               34\n",
       "5        4           42               35\n",
       "6   104828           28               26\n",
       "7        9            4                4\n",
       "8    27502           99               88"
      ]
     },
     "execution_count": 225,
     "metadata": {},
     "output_type": "execute_result"
    }
   ],
   "source": [
    "df_outlets = stories.merge(dfr_count, on='media_id')\n",
    "df_outlets"
   ]
  },
  {
   "cell_type": "code",
   "execution_count": 226,
   "metadata": {},
   "outputs": [
    {
     "data": {
      "text/html": [
       "<div>\n",
       "<style scoped>\n",
       "    .dataframe tbody tr th:only-of-type {\n",
       "        vertical-align: middle;\n",
       "    }\n",
       "\n",
       "    .dataframe tbody tr th {\n",
       "        vertical-align: top;\n",
       "    }\n",
       "\n",
       "    .dataframe thead th {\n",
       "        text-align: right;\n",
       "    }\n",
       "</style>\n",
       "<table border=\"1\" class=\"dataframe\">\n",
       "  <thead>\n",
       "    <tr style=\"text-align: right;\">\n",
       "      <th></th>\n",
       "      <th>media_id</th>\n",
       "      <th>story_count</th>\n",
       "      <th>retrieved_count</th>\n",
       "      <th>exp_ret_diff_count</th>\n",
       "      <th>retrieved_pct</th>\n",
       "    </tr>\n",
       "  </thead>\n",
       "  <tbody>\n",
       "    <tr>\n",
       "      <th>0</th>\n",
       "      <td>2</td>\n",
       "      <td>93</td>\n",
       "      <td>90</td>\n",
       "      <td>-3</td>\n",
       "      <td>96.77</td>\n",
       "    </tr>\n",
       "    <tr>\n",
       "      <th>1</th>\n",
       "      <td>1</td>\n",
       "      <td>98</td>\n",
       "      <td>93</td>\n",
       "      <td>-5</td>\n",
       "      <td>94.90</td>\n",
       "    </tr>\n",
       "    <tr>\n",
       "      <th>2</th>\n",
       "      <td>1149</td>\n",
       "      <td>20</td>\n",
       "      <td>15</td>\n",
       "      <td>-5</td>\n",
       "      <td>75.00</td>\n",
       "    </tr>\n",
       "    <tr>\n",
       "      <th>3</th>\n",
       "      <td>1095</td>\n",
       "      <td>143</td>\n",
       "      <td>136</td>\n",
       "      <td>-7</td>\n",
       "      <td>95.10</td>\n",
       "    </tr>\n",
       "    <tr>\n",
       "      <th>4</th>\n",
       "      <td>25499</td>\n",
       "      <td>36</td>\n",
       "      <td>34</td>\n",
       "      <td>-2</td>\n",
       "      <td>94.44</td>\n",
       "    </tr>\n",
       "    <tr>\n",
       "      <th>5</th>\n",
       "      <td>4</td>\n",
       "      <td>42</td>\n",
       "      <td>35</td>\n",
       "      <td>-7</td>\n",
       "      <td>83.33</td>\n",
       "    </tr>\n",
       "    <tr>\n",
       "      <th>6</th>\n",
       "      <td>104828</td>\n",
       "      <td>28</td>\n",
       "      <td>26</td>\n",
       "      <td>-2</td>\n",
       "      <td>92.86</td>\n",
       "    </tr>\n",
       "    <tr>\n",
       "      <th>7</th>\n",
       "      <td>9</td>\n",
       "      <td>4</td>\n",
       "      <td>4</td>\n",
       "      <td>0</td>\n",
       "      <td>100.00</td>\n",
       "    </tr>\n",
       "    <tr>\n",
       "      <th>8</th>\n",
       "      <td>27502</td>\n",
       "      <td>99</td>\n",
       "      <td>88</td>\n",
       "      <td>-11</td>\n",
       "      <td>88.89</td>\n",
       "    </tr>\n",
       "  </tbody>\n",
       "</table>\n",
       "</div>"
      ],
      "text/plain": [
       "  media_id  story_count  retrieved_count  exp_ret_diff_count  retrieved_pct\n",
       "0        2           93               90                  -3          96.77\n",
       "1        1           98               93                  -5          94.90\n",
       "2     1149           20               15                  -5          75.00\n",
       "3     1095          143              136                  -7          95.10\n",
       "4    25499           36               34                  -2          94.44\n",
       "5        4           42               35                  -7          83.33\n",
       "6   104828           28               26                  -2          92.86\n",
       "7        9            4                4                   0         100.00\n",
       "8    27502           99               88                 -11          88.89"
      ]
     },
     "execution_count": 226,
     "metadata": {},
     "output_type": "execute_result"
    }
   ],
   "source": [
    "df_outlets['exp_ret_diff_count'] = df_outlets['retrieved_count'] - df_outlets['story_count']\n",
    "df_outlets['retrieved_pct'] = round(df_outlets['retrieved_count']/df_outlets['story_count']*100,2)\n",
    "\n",
    "df_outlets"
   ]
  },
  {
   "cell_type": "code",
   "execution_count": 227,
   "metadata": {},
   "outputs": [
    {
     "data": {
      "text/html": [
       "<div>\n",
       "<style scoped>\n",
       "    .dataframe tbody tr th:only-of-type {\n",
       "        vertical-align: middle;\n",
       "    }\n",
       "\n",
       "    .dataframe tbody tr th {\n",
       "        vertical-align: top;\n",
       "    }\n",
       "\n",
       "    .dataframe thead th {\n",
       "        text-align: right;\n",
       "    }\n",
       "</style>\n",
       "<table border=\"1\" class=\"dataframe\">\n",
       "  <thead>\n",
       "    <tr style=\"text-align: right;\">\n",
       "      <th></th>\n",
       "      <th>media_id</th>\n",
       "      <th>story_count</th>\n",
       "      <th>retrieved_count</th>\n",
       "      <th>exp_ret_diff_count</th>\n",
       "      <th>retrieved_pct</th>\n",
       "      <th>min_retrieved_date</th>\n",
       "      <th>max_retrieved_date</th>\n",
       "    </tr>\n",
       "  </thead>\n",
       "  <tbody>\n",
       "    <tr>\n",
       "      <th>0</th>\n",
       "      <td>2</td>\n",
       "      <td>93</td>\n",
       "      <td>90</td>\n",
       "      <td>-3</td>\n",
       "      <td>96.77</td>\n",
       "      <td>2021-01-02</td>\n",
       "      <td>2022-03-18</td>\n",
       "    </tr>\n",
       "    <tr>\n",
       "      <th>1</th>\n",
       "      <td>1</td>\n",
       "      <td>98</td>\n",
       "      <td>93</td>\n",
       "      <td>-5</td>\n",
       "      <td>94.90</td>\n",
       "      <td>2021-01-14</td>\n",
       "      <td>2022-03-09</td>\n",
       "    </tr>\n",
       "    <tr>\n",
       "      <th>2</th>\n",
       "      <td>1149</td>\n",
       "      <td>20</td>\n",
       "      <td>15</td>\n",
       "      <td>-5</td>\n",
       "      <td>75.00</td>\n",
       "      <td>2021-01-29</td>\n",
       "      <td>2022-03-21</td>\n",
       "    </tr>\n",
       "    <tr>\n",
       "      <th>3</th>\n",
       "      <td>1095</td>\n",
       "      <td>143</td>\n",
       "      <td>136</td>\n",
       "      <td>-7</td>\n",
       "      <td>95.10</td>\n",
       "      <td>2021-01-03</td>\n",
       "      <td>2022-03-22</td>\n",
       "    </tr>\n",
       "    <tr>\n",
       "      <th>4</th>\n",
       "      <td>25499</td>\n",
       "      <td>36</td>\n",
       "      <td>34</td>\n",
       "      <td>-2</td>\n",
       "      <td>94.44</td>\n",
       "      <td>2021-01-29</td>\n",
       "      <td>2022-03-21</td>\n",
       "    </tr>\n",
       "    <tr>\n",
       "      <th>5</th>\n",
       "      <td>4</td>\n",
       "      <td>42</td>\n",
       "      <td>35</td>\n",
       "      <td>-7</td>\n",
       "      <td>83.33</td>\n",
       "      <td>2021-01-06</td>\n",
       "      <td>2021-09-14</td>\n",
       "    </tr>\n",
       "    <tr>\n",
       "      <th>6</th>\n",
       "      <td>104828</td>\n",
       "      <td>28</td>\n",
       "      <td>26</td>\n",
       "      <td>-2</td>\n",
       "      <td>92.86</td>\n",
       "      <td>2021-01-06</td>\n",
       "      <td>2022-03-16</td>\n",
       "    </tr>\n",
       "    <tr>\n",
       "      <th>7</th>\n",
       "      <td>9</td>\n",
       "      <td>4</td>\n",
       "      <td>4</td>\n",
       "      <td>0</td>\n",
       "      <td>100.00</td>\n",
       "      <td>2021-01-31</td>\n",
       "      <td>2021-06-17</td>\n",
       "    </tr>\n",
       "    <tr>\n",
       "      <th>8</th>\n",
       "      <td>27502</td>\n",
       "      <td>99</td>\n",
       "      <td>88</td>\n",
       "      <td>-11</td>\n",
       "      <td>88.89</td>\n",
       "      <td>2021-01-03</td>\n",
       "      <td>2022-02-10</td>\n",
       "    </tr>\n",
       "  </tbody>\n",
       "</table>\n",
       "</div>"
      ],
      "text/plain": [
       "  media_id  story_count  retrieved_count  exp_ret_diff_count  retrieved_pct  \\\n",
       "0        2           93               90                  -3          96.77   \n",
       "1        1           98               93                  -5          94.90   \n",
       "2     1149           20               15                  -5          75.00   \n",
       "3     1095          143              136                  -7          95.10   \n",
       "4    25499           36               34                  -2          94.44   \n",
       "5        4           42               35                  -7          83.33   \n",
       "6   104828           28               26                  -2          92.86   \n",
       "7        9            4                4                   0         100.00   \n",
       "8    27502           99               88                 -11          88.89   \n",
       "\n",
       "  min_retrieved_date max_retrieved_date  \n",
       "0         2021-01-02         2022-03-18  \n",
       "1         2021-01-14         2022-03-09  \n",
       "2         2021-01-29         2022-03-21  \n",
       "3         2021-01-03         2022-03-22  \n",
       "4         2021-01-29         2022-03-21  \n",
       "5         2021-01-06         2021-09-14  \n",
       "6         2021-01-06         2022-03-16  \n",
       "7         2021-01-31         2021-06-17  \n",
       "8         2021-01-03         2022-02-10  "
      ]
     },
     "execution_count": 227,
     "metadata": {},
     "output_type": "execute_result"
    }
   ],
   "source": [
    "df_outlets = df_outlets.merge(dfr_dates, on='media_id')\n",
    "df_outlets"
   ]
  },
  {
   "cell_type": "markdown",
   "metadata": {},
   "source": [
    "### Plotting by time"
   ]
  },
  {
   "cell_type": "code",
   "execution_count": 115,
   "metadata": {},
   "outputs": [
    {
     "name": "stdout",
     "output_type": "stream",
     "text": [
      "          Date  counts\n",
      "0   2021-01-02       1\n",
      "1   2021-01-03       2\n",
      "2   2021-01-04       2\n",
      "3   2021-01-06       3\n",
      "4   2021-01-07       1\n",
      "..         ...     ...\n",
      "204 2022-03-16       1\n",
      "205 2022-03-17       1\n",
      "206 2022-03-18       1\n",
      "207 2022-03-21       2\n",
      "208 2022-03-22       1\n",
      "\n",
      "[209 rows x 2 columns]\n"
     ]
    }
   ],
   "source": [
    "count = left_corpus.groupby(['Date']).size().reset_index(name='counts')\n",
    "print(count)"
   ]
  },
  {
   "cell_type": "code",
   "execution_count": 116,
   "metadata": {},
   "outputs": [
    {
     "data": {
      "text/plain": [
       "[<matplotlib.lines.Line2D at 0x1a5381117c0>]"
      ]
     },
     "execution_count": 116,
     "metadata": {},
     "output_type": "execute_result"
    },
    {
     "data": {
      "image/png": "[encoded data removed]",
      "text/plain": [
       "<Figure size 432x288 with 1 Axes>"
      ]
     },
     "metadata": {
      "needs_background": "light"
     },
     "output_type": "display_data"
    }
   ],
   "source": [
    "import matplotlib.pyplot as plt\n",
    "plt.plot(count[\"Date\"], count[\"counts\"])"
   ]
  }
 ],
 "metadata": {
  "interpreter": {
   "hash": "69226dc651b7fbb4cbb68815143d2221db9c2a369a5e9beb9597b16c0cffa010"
  },
  "kernelspec": {
   "display_name": "Python 3.9.12 64-bit (windows store)",
   "language": "python",
   "name": "python3"
  },
  "language_info": {
   "codemirror_mode": {
    "name": "ipython",
    "version": 3
   },
   "file_extension": ".py",
   "mimetype": "text/x-python",
   "name": "python",
   "nbconvert_exporter": "python",
   "pygments_lexer": "ipython3",
   "version": "3.9.12"
  },
  "orig_nbformat": 4
 },
 "nbformat": 4,
 "nbformat_minor": 2
}
