{
 "cells": [
  {
   "cell_type": "markdown",
   "metadata": {},
   "source": [
    "## Collecting stories through MediaCloud\n",
    "\n",
    "The following markdown goes over steps to retrieve stoes from the MediaCloud platform."
   ]
  },
  {
   "cell_type": "code",
   "execution_count": 56,
   "metadata": {},
   "outputs": [],
   "source": [
    "from dotenv import load_dotenv\n",
    "import os, mediacloud.api\n",
    "import datetime\n",
    "import json\n",
    "import pandas as pd \n",
    "from IPython.display import JSON\n",
    "import mediacloud.tags\n",
    "import csv\n",
    "import requests\n",
    "import time\n",
    "import newsplease\n",
    "from tqdm import tqdm\n",
    "from newsplease import NewsPlease\n",
    "from urllib.parse import urlparse"
   ]
  },
  {
   "cell_type": "markdown",
   "metadata": {},
   "source": [
    "### Setting up\n",
    "\n",
    "First we instantiate a client with the private API key. "
   ]
  },
  {
   "cell_type": "code",
   "execution_count": 4,
   "metadata": {},
   "outputs": [
    {
     "data": {
      "text/plain": [
       "'3.12.5'"
      ]
     },
     "execution_count": 4,
     "metadata": {},
     "output_type": "execute_result"
    }
   ],
   "source": [
    "mc = mediacloud.api.MediaCloud('439141f9647ae800fa099bf77e4297ea28fe3f2bbc2d64b1f2163ad52fd8fef2')\n",
    "mediacloud.__version__"
   ]
  },
  {
   "cell_type": "code",
   "execution_count": 3,
   "metadata": {},
   "outputs": [
    {
     "data": {
      "text/plain": [
       "{'active_crawled_feeds': 163686,\n",
       " 'active_crawled_media': 58419,\n",
       " 'daily_downloads': 1127868,\n",
       " 'daily_stories': 638707,\n",
       " 'mediacloud_stats_id': 11,\n",
       " 'stats_date': '2022-04-10',\n",
       " 'total_downloads': 0,\n",
       " 'total_sentences': 0,\n",
       " 'total_stories': 0}"
      ]
     },
     "execution_count": 3,
     "metadata": {},
     "output_type": "execute_result"
    }
   ],
   "source": [
    "# make sure your connection and API key work by asking for the high-level system statistics\n",
    "mc.stats()"
   ]
  },
  {
   "cell_type": "markdown",
   "metadata": {},
   "source": [
    "### Sources and Collections"
   ]
  },
  {
   "cell_type": "code",
   "execution_count": 67,
   "metadata": {},
   "outputs": [
    {
     "data": {
      "text/plain": [
       "[25499]"
      ]
     },
     "execution_count": 67,
     "metadata": {},
     "output_type": "execute_result"
    }
   ],
   "source": [
    "matching_sources = mc.mediaList(name_like='nbc news', sort='num_stories')\n",
    "JSON(matching_sources)\n",
    "[m['media_id'] for m in matching_sources]"
   ]
  },
  {
   "cell_type": "markdown",
   "metadata": {},
   "source": [
    "### Stories per outlet (wlmwng code)"
   ]
  },
  {
   "cell_type": "code",
   "execution_count": null,
   "metadata": {},
   "outputs": [],
   "source": [
    "def get_outlet_story_count(mc, media_id, start_time, end_time):\n",
    "     \"\"\"\n",
    "     Args:\n",
    "         - mc (obj): a `mediacloud.api.MediaCloud` object already instantiated with the API key\n",
    "         - media_id (str): Media Cloud's media source ID for the outlet (https://sources.mediacloud.org/#/sources/[media_id])\n",
    "         - start_time (datetime)\n",
    "         - end_time (datetime)\n",
    "\n",
    "     Returns:\n",
    "         - story_count (int)\n",
    "     \"\"\"\n",
    "     date_range = mc.dates_as_query_clause(start_time, end_time-datetime.timedelta(days=1)) # default is start & end inclusive\n",
    "     story_count = mc.storyCount(f'media_id:{media_id}', date_range)['count']\n",
    "     return story_count\n",
    "\n",
    "\n",
    "get_outlet_story_count(mc, '1092', start_date, end_date)"
   ]
  },
  {
   "cell_type": "markdown",
   "metadata": {},
   "source": [
    "### Measuring Attention\n",
    "\n",
    "We are ready to query Media Cloud for data. First we measure attention paid to an issue by the media. Two methods are particularly helpful for studying attention: storyCount and storyList. We start by looking at attention from a single media source."
   ]
  },
  {
   "cell_type": "markdown",
   "metadata": {},
   "source": [
    "#### storyCount"
   ]
  },
  {
   "cell_type": "markdown",
   "metadata": {},
   "source": [
    "We collect stories from Washington Post, Washington Times, Fox News, Breitbart, CNN, NBC News and New York Post"
   ]
  },
  {
   "cell_type": "code",
   "execution_count": 10,
   "metadata": {},
   "outputs": [
    {
     "data": {
      "text/plain": [
       "{'count': 4952}"
      ]
     },
     "execution_count": 10,
     "metadata": {},
     "output_type": "execute_result"
    }
   ],
   "source": [
    "# check how many stories mention voter ID in Fox News\n",
    "my_query = '(\"voter ID\" or \"voter identification\" or \"ID law\" or \"ID laws\" or \"voting ID\") and (media_id:1092 OR media_id:2 OR media_id:101 OR media_id:1095 OR media_id:19334 OR media_id:7 OR media_id:25499)'\n",
    "mc.storyCount(my_query)"
   ]
  },
  {
   "cell_type": "code",
   "execution_count": 50,
   "metadata": {},
   "outputs": [
    {
     "data": {
      "text/plain": [
       "{'count': 4391}"
      ]
     },
     "execution_count": 50,
     "metadata": {},
     "output_type": "execute_result"
    }
   ],
   "source": [
    "# limit this to stories from 2013-2022\n",
    "start_date = datetime.date(2013,1,1)\n",
    "end_date = datetime.date(2022,3,30)\n",
    "date_range = mc.dates_as_query_clause(start_date, end_date) # default is start & end inclusive\n",
    "mc.storyCount(my_query, date_range)"
   ]
  },
  {
   "cell_type": "code",
   "execution_count": 47,
   "metadata": {},
   "outputs": [
    {
     "data": {
      "application/json": {
       "counts": [
        {
         "count": 235,
         "date": "2013-01-01 00:00:00"
        },
        {
         "count": 356,
         "date": "2014-01-01 00:00:00"
        },
        {
         "count": 186,
         "date": "2015-01-01 00:00:00"
        },
        {
         "count": 589,
         "date": "2016-01-01 00:00:00"
        },
        {
         "count": 490,
         "date": "2017-01-01 00:00:00"
        },
        {
         "count": 513,
         "date": "2018-01-01 00:00:00"
        },
        {
         "count": 253,
         "date": "2019-01-01 00:00:00"
        },
        {
         "count": 579,
         "date": "2020-01-01 00:00:00"
        },
        {
         "count": 1077,
         "date": "2021-01-01 00:00:00"
        },
        {
         "count": 68,
         "date": "2022-01-01 00:00:00"
        }
       ]
      },
      "text/plain": [
       "<IPython.core.display.JSON object>"
      ]
     },
     "execution_count": 47,
     "metadata": {
      "application/json": {
       "expanded": false,
       "root": "root"
      }
     },
     "output_type": "execute_result"
    }
   ],
   "source": [
    "# you can see this over time by using the `split` argument\n",
    "# this defaults to results by day, but you can pass a split_period in (day, week, month, or year)\n",
    "results = mc.storyCount(my_query, date_range, split=True, split_period='year')\n",
    "JSON(results)\n"
   ]
  },
  {
   "cell_type": "code",
   "execution_count": 48,
   "metadata": {},
   "outputs": [
    {
     "name": "stdout",
     "output_type": "stream",
     "text": [
      "   count                 date\n",
      "0    235  2013-01-01 00:00:00\n",
      "1    356  2014-01-01 00:00:00\n",
      "2    186  2015-01-01 00:00:00\n",
      "3    589  2016-01-01 00:00:00\n",
      "4    490  2017-01-01 00:00:00\n",
      "5    513  2018-01-01 00:00:00\n",
      "6    253  2019-01-01 00:00:00\n",
      "7    579  2020-01-01 00:00:00\n",
      "8   1077  2021-01-01 00:00:00\n",
      "9     68  2022-01-01 00:00:00\n"
     ]
    }
   ],
   "source": [
    "import pandas as pd\n",
    "\n",
    "df = pd.DataFrame(results['counts'])\n",
    "print(df)\n"
   ]
  },
  {
   "cell_type": "code",
   "execution_count": 49,
   "metadata": {},
   "outputs": [
    {
     "data": {
      "text/plain": [
       "<AxesSubplot:xlabel='date'>"
      ]
     },
     "execution_count": 49,
     "metadata": {},
     "output_type": "execute_result"
    },
    {
     "data": {
      "image/png": "[encoded data removed]",
      "text/plain": [
       "<Figure size 432x288 with 1 Axes>"
      ]
     },
     "metadata": {
      "needs_background": "light"
     },
     "output_type": "display_data"
    }
   ],
   "source": [
    "df.plot(x='date', y='count', fontsize=10)"
   ]
  },
  {
   "cell_type": "code",
   "execution_count": 31,
   "metadata": {},
   "outputs": [
    {
     "data": {
      "text/plain": [
       "[<matplotlib.lines.Line2D at 0x269f4db0730>]"
      ]
     },
     "execution_count": 31,
     "metadata": {},
     "output_type": "execute_result"
    },
    {
     "data": {
      "image/png": "[encoded data removed]",
      "text/plain": [
       "<Figure size 432x288 with 1 Axes>"
      ]
     },
     "metadata": {
      "needs_background": "light"
     },
     "output_type": "display_data"
    }
   ],
   "source": [
    "import matplotlib.pyplot as plt\n",
    "plt.plot(df[\"date\"], df[\"count\"])"
   ]
  },
  {
   "cell_type": "code",
   "execution_count": null,
   "metadata": {},
   "outputs": [],
   "source": [
    "# we compare attention to the total number of stories we have from a source within that same timespan.\n",
    "relevant_stories = mc.storyCount(my_query, date_range)\n",
    "total_stories = mc.storyCount('media_id:1092', date_range)\n",
    "source_ratio = relevant_stories['count'] / total_stories['count']\n",
    "'{:.2%} of Fox News stories are about \"voter ID\"'.format(source_ratio)"
   ]
  },
  {
   "cell_type": "markdown",
   "metadata": {},
   "source": [
    "#### storyList"
   ]
  },
  {
   "cell_type": "markdown",
   "metadata": {},
   "source": [
    "Here we get a list of all the URLs. We can also return word counts down to the story level."
   ]
  },
  {
   "cell_type": "code",
   "execution_count": 32,
   "metadata": {},
   "outputs": [
    {
     "data": {
      "text/plain": [
       "<IPython.core.display.JSON object>"
      ]
     },
     "execution_count": 32,
     "metadata": {
      "application/json": {
       "expanded": false,
       "root": "root"
      }
     },
     "output_type": "execute_result"
    }
   ],
   "source": [
    "# grab a random set of stories about this issue (defaults to 20 stories)\n",
    "# note that this seed is fixed, so it will return the same set of random stories each call you make\n",
    "stories = mc.storyList(my_query, date_range, sort=mc.SORT_RANDOM)\n",
    "JSON(stories)"
   ]
  },
  {
   "cell_type": "code",
   "execution_count": 33,
   "metadata": {},
   "outputs": [],
   "source": [
    "# If we want to list ALL the stories matching, we need to page through the results. \n",
    "# This is accomplished via the last_processed_stories_id parameter. This code snippet pages through all the stories in a query.\n",
    "def all_matching_stories(mc_client, q, fq):\n",
    "    \"\"\"\n",
    "    Return all the stories matching a query within Media Cloud. Page through the results automatically.\n",
    "    :param mc_client: a `mediacloud.api.MediaCloud` object instantiated with your API key already\n",
    "    :param q: your boolean query\n",
    "    :param fq: your date range query\n",
    "    :return: a list of media cloud story items\n",
    "    \"\"\"\n",
    "    last_id = 0\n",
    "    more_stories = True\n",
    "    stories = []\n",
    "    while more_stories:\n",
    "        page = mc_client.storyList(q, fq, last_processed_stories_id=last_id, rows=500, sort='processed_stories_id')\n",
    "        print(\"  got one page with {} stories\".format(len(page)))\n",
    "        if len(page) == 0:\n",
    "            more_stories = False\n",
    "        else:\n",
    "            stories += page\n",
    "            last_id = page[-1]['processed_stories_id']\n",
    "    return stories"
   ]
  },
  {
   "cell_type": "code",
   "execution_count": 34,
   "metadata": {},
   "outputs": [
    {
     "name": "stdout",
     "output_type": "stream",
     "text": [
      "  got one page with 290 stories\n",
      "  got one page with 220 stories\n",
      "  got one page with 105 stories\n",
      "  got one page with 128 stories\n",
      "  got one page with 285 stories\n",
      "  got one page with 266 stories\n",
      "  got one page with 500 stories\n",
      "  got one page with 500 stories\n",
      "  got one page with 325 stories\n",
      "  got one page with 0 stories\n"
     ]
    },
    {
     "data": {
      "text/plain": [
       "2619"
      ]
     },
     "execution_count": 34,
     "metadata": {},
     "output_type": "execute_result"
    }
   ],
   "source": [
    "# let's fetch all the stories matching our query (this can take a few minutes)\n",
    "year2020 = mc.dates_as_query_clause(datetime.date(2013,1,1), datetime.date(2022,3,30))\n",
    "all_stories = all_matching_stories(mc, my_query, year2020)\n",
    "len(all_stories)"
   ]
  },
  {
   "cell_type": "markdown",
   "metadata": {},
   "source": [
    "Writing a CSV of Story Data"
   ]
  },
  {
   "cell_type": "code",
   "execution_count": 37,
   "metadata": {},
   "outputs": [],
   "source": [
    "# first flatten things a little bit to make writing a CSV easier\n",
    "for s in all_stories:\n",
    "    # see the \"language\" notebook for more details on themes\n",
    "    theme_tag_names = ','.join([t['tag'] for t in s['story_tags'] if t['tag_sets_id'] == mediacloud.tags.TAG_SET_NYT_THEMES])\n",
    "    s['themes'] = theme_tag_names\n",
    "# now write the CSV\n",
    "fieldnames = ['stories_id', 'publish_date', 'title', 'url', 'language', 'ap_syndicated', 'themes', 'media_id', 'media_name', 'media_url']\n",
    "with open('story-list.csv', 'w', newline='') as csvfile:\n",
    "    writer = csv.DictWriter(csvfile, fieldnames=fieldnames, extrasaction='ignore')\n",
    "    writer.writeheader()\n",
    "    for s in all_stories:\n",
    "        writer.writerow(s)"
   ]
  },
  {
   "cell_type": "code",
   "execution_count": null,
   "metadata": {},
   "outputs": [],
   "source": [
    "import pandas\n",
    "corpus = pandas.read_csv('story-list.csv', encoding='cp1252')\n",
    "len(corpus)\n",
    "corpus.head()"
   ]
  },
  {
   "cell_type": "code",
   "execution_count": 43,
   "metadata": {},
   "outputs": [
    {
     "data": {
      "text/html": [
       "<div>\n",
       "<style scoped>\n",
       "    .dataframe tbody tr th:only-of-type {\n",
       "        vertical-align: middle;\n",
       "    }\n",
       "\n",
       "    .dataframe tbody tr th {\n",
       "        vertical-align: top;\n",
       "    }\n",
       "\n",
       "    .dataframe thead th {\n",
       "        text-align: right;\n",
       "    }\n",
       "</style>\n",
       "<table border=\"1\" class=\"dataframe\">\n",
       "  <thead>\n",
       "    <tr style=\"text-align: right;\">\n",
       "      <th></th>\n",
       "      <th>media_name</th>\n",
       "    </tr>\n",
       "  </thead>\n",
       "  <tbody>\n",
       "    <tr>\n",
       "      <th>Washington Post</th>\n",
       "      <td>601</td>\n",
       "    </tr>\n",
       "    <tr>\n",
       "      <th>Washington Times</th>\n",
       "      <td>543</td>\n",
       "    </tr>\n",
       "    <tr>\n",
       "      <th>Fox News</th>\n",
       "      <td>506</td>\n",
       "    </tr>\n",
       "    <tr>\n",
       "      <th>Breitbart</th>\n",
       "      <td>373</td>\n",
       "    </tr>\n",
       "    <tr>\n",
       "      <th>CNN</th>\n",
       "      <td>324</td>\n",
       "    </tr>\n",
       "    <tr>\n",
       "      <th>NBC News</th>\n",
       "      <td>170</td>\n",
       "    </tr>\n",
       "    <tr>\n",
       "      <th>New York Post</th>\n",
       "      <td>102</td>\n",
       "    </tr>\n",
       "  </tbody>\n",
       "</table>\n",
       "</div>"
      ],
      "text/plain": [
       "                  media_name\n",
       "Washington Post          601\n",
       "Washington Times         543\n",
       "Fox News                 506\n",
       "Breitbart                373\n",
       "CNN                      324\n",
       "NBC News                 170\n",
       "New York Post            102"
      ]
     },
     "execution_count": 43,
     "metadata": {},
     "output_type": "execute_result"
    }
   ],
   "source": [
    "pd.DataFrame(corpus['media_name'].value_counts()) #counting urls per news media source"
   ]
  },
  {
   "cell_type": "code",
   "execution_count": 55,
   "metadata": {},
   "outputs": [
    {
     "data": {
      "text/plain": [
       "2619"
      ]
     },
     "execution_count": 55,
     "metadata": {},
     "output_type": "execute_result"
    }
   ],
   "source": [
    "# create list of urls from pandas dataframe\n",
    "urls = corpus['url'].to_list()\n",
    "len(urls)"
   ]
  },
  {
   "cell_type": "code",
   "execution_count": null,
   "metadata": {},
   "outputs": [],
   "source": [
    "# retrieve html pages from list of urls \n",
    "allpages = {}\n",
    "for url in tqdm(urls):\n",
    "    try:\n",
    "        r = requests.get(url)\n",
    "        if r.status_code==200:\n",
    "            allpages[url] = r.text #only read the html text if page exists\n",
    "        else:\n",
    "            print(f'Downloading {url} returned status code {r.status_code}')\n",
    "    except:\n",
    "        print(f'some error occurred when downloading {url}')\n",
    "with open('TMP.json',  mode='w') as f:\n",
    "    json.dump( allpages, f)"
   ]
  },
  {
   "cell_type": "code",
   "execution_count": 58,
   "metadata": {},
   "outputs": [
    {
     "data": {
      "text/plain": [
       "2453"
      ]
     },
     "execution_count": 58,
     "metadata": {},
     "output_type": "execute_result"
    }
   ],
   "source": [
    "len(allpages) # check how many pages were retrieved\n"
   ]
  },
  {
   "cell_type": "code",
   "execution_count": 59,
   "metadata": {},
   "outputs": [
    {
     "name": "stderr",
     "output_type": "stream",
     "text": [
      "100%|██████████| 2453/2453 [37:55<00:00,  1.08it/s] \n"
     ]
    }
   ],
   "source": [
    "allpages_parsed = {}\n",
    "for k, v in tqdm(allpages.items()):\n",
    "    allpages_parsed[k] = NewsPlease.from_html(v) # use NewsPlease here to download the stories from the html info retrieved"
   ]
  },
  {
   "cell_type": "code",
   "execution_count": 61,
   "metadata": {},
   "outputs": [],
   "source": [
    "with open(\"output.json\", mode = 'w') as f: #write json file with media data\n",
    "    for k, v in allpages_parsed.items():\n",
    "        mydict = v.get_serializable_dict()\n",
    "        mydict['url'] = k\n",
    "        f.write(json.dumps(mydict))\n",
    "        f.write(\"\\n\")"
   ]
  },
  {
   "cell_type": "code",
   "execution_count": 63,
   "metadata": {},
   "outputs": [
    {
     "data": {
      "text/html": [
       "<div>\n",
       "<style scoped>\n",
       "    .dataframe tbody tr th:only-of-type {\n",
       "        vertical-align: middle;\n",
       "    }\n",
       "\n",
       "    .dataframe tbody tr th {\n",
       "        vertical-align: top;\n",
       "    }\n",
       "\n",
       "    .dataframe thead th {\n",
       "        text-align: right;\n",
       "    }\n",
       "</style>\n",
       "<table border=\"1\" class=\"dataframe\">\n",
       "  <thead>\n",
       "    <tr style=\"text-align: right;\">\n",
       "      <th></th>\n",
       "      <th>authors</th>\n",
       "      <th>date_download</th>\n",
       "      <th>date_modify</th>\n",
       "      <th>date_publish</th>\n",
       "      <th>description</th>\n",
       "      <th>filename</th>\n",
       "      <th>image_url</th>\n",
       "      <th>language</th>\n",
       "      <th>localpath</th>\n",
       "      <th>maintext</th>\n",
       "      <th>source_domain</th>\n",
       "      <th>text</th>\n",
       "      <th>title</th>\n",
       "      <th>title_page</th>\n",
       "      <th>title_rss</th>\n",
       "      <th>url</th>\n",
       "    </tr>\n",
       "  </thead>\n",
       "  <tbody>\n",
       "    <tr>\n",
       "      <th>0</th>\n",
       "      <td>[The Washington Times Https, The Associated Pr...</td>\n",
       "      <td>None</td>\n",
       "      <td>None</td>\n",
       "      <td>2015-05-12 14:02:41</td>\n",
       "      <td>Tribune-Star, Terre Haute. May 11, 2015.</td>\n",
       "      <td>.json</td>\n",
       "      <td>//twt-assets.washtimes.com/images/favicon.3033...</td>\n",
       "      <td>en</td>\n",
       "      <td>NaN</td>\n",
       "      <td>Tribune-Star, Terre Haute. May 11, 2015.\\nSlim...</td>\n",
       "      <td>NaN</td>\n",
       "      <td>NaN</td>\n",
       "      <td>Recent editorials published in Indiana newspapers</td>\n",
       "      <td>NaN</td>\n",
       "      <td>NaN</td>\n",
       "      <td>http://feedproxy.google.com/~r/Sports-TheWashi...</td>\n",
       "    </tr>\n",
       "    <tr>\n",
       "      <th>1</th>\n",
       "      <td>[Tampa Tim, Rudy Nyc, The, Compassionate, Gop ...</td>\n",
       "      <td>None</td>\n",
       "      <td>None</td>\n",
       "      <td>2014-04-30 00:00:00</td>\n",
       "      <td>(CNN) -- In an exclusive interview with CNN Ch...</td>\n",
       "      <td>.json</td>\n",
       "      <td>http://i2.cdn.turner.com/cnn/dam/assets/140430...</td>\n",
       "      <td>en</td>\n",
       "      <td>NaN</td>\n",
       "      <td>8 years ago\\n(CNN) - In an exclusive interview...</td>\n",
       "      <td>NaN</td>\n",
       "      <td>NaN</td>\n",
       "      <td>Rep. Thompson doubles down on racial remarks i...</td>\n",
       "      <td>NaN</td>\n",
       "      <td>NaN</td>\n",
       "      <td>http://politicalticker.blogs.cnn.com/2014/04/3...</td>\n",
       "    </tr>\n",
       "    <tr>\n",
       "      <th>2</th>\n",
       "      <td>[]</td>\n",
       "      <td>None</td>\n",
       "      <td>None</td>\n",
       "      <td>2014-06-04 12:35:55</td>\n",
       "      <td>A look at the likely limited spread of Seattle...</td>\n",
       "      <td>.json</td>\n",
       "      <td>https://www.washingtonpost.com/resizer/2CjPNwq...</td>\n",
       "      <td>en</td>\n",
       "      <td>NaN</td>\n",
       "      <td>Wonkbook’s Chart of the Day: The decreasing va...</td>\n",
       "      <td>NaN</td>\n",
       "      <td>NaN</td>\n",
       "      <td>Wonkbook: Will Seattle’s $15 minimum wage expe...</td>\n",
       "      <td>NaN</td>\n",
       "      <td>NaN</td>\n",
       "      <td>http://www.washingtonpost.com/blogs/wonkblog/w...</td>\n",
       "    </tr>\n",
       "    <tr>\n",
       "      <th>3</th>\n",
       "      <td>[The Washington Times Https, Gary D. Robertson]</td>\n",
       "      <td>None</td>\n",
       "      <td>None</td>\n",
       "      <td>2014-02-08 18:45:20</td>\n",
       "      <td>Following a year marked by hundreds of arrests...</td>\n",
       "      <td>.json</td>\n",
       "      <td>https://twt-thumbs.washtimes.com/media/image/2...</td>\n",
       "      <td>en</td>\n",
       "      <td>NaN</td>\n",
       "      <td>RALEIGH, N.C. (AP) - Following a year marked b...</td>\n",
       "      <td>NaN</td>\n",
       "      <td>NaN</td>\n",
       "      <td>Multitude at \"Moral March\" protest NC GOP poli...</td>\n",
       "      <td>NaN</td>\n",
       "      <td>NaN</td>\n",
       "      <td>http://www.washingtontimes.com/news/2014/feb/8...</td>\n",
       "    </tr>\n",
       "    <tr>\n",
       "      <th>4</th>\n",
       "      <td>[]</td>\n",
       "      <td>None</td>\n",
       "      <td>None</td>\n",
       "      <td>2013-07-05 12:59:09</td>\n",
       "      <td>Arguments over legislative tactics obscure que...</td>\n",
       "      <td>.json</td>\n",
       "      <td>https://www.washingtonpost.com/resizer/2CjPNwq...</td>\n",
       "      <td>en</td>\n",
       "      <td>NaN</td>\n",
       "      <td>Not to be outdone in the headlines by the Texa...</td>\n",
       "      <td>NaN</td>\n",
       "      <td>NaN</td>\n",
       "      <td>Abortion restrictions in North Carolina Senate...</td>\n",
       "      <td>NaN</td>\n",
       "      <td>NaN</td>\n",
       "      <td>http://www.washingtonpost.com/blogs/she-the-pe...</td>\n",
       "    </tr>\n",
       "  </tbody>\n",
       "</table>\n",
       "</div>"
      ],
      "text/plain": [
       "                                             authors date_download  \\\n",
       "0  [The Washington Times Https, The Associated Pr...          None   \n",
       "1  [Tampa Tim, Rudy Nyc, The, Compassionate, Gop ...          None   \n",
       "2                                                 []          None   \n",
       "3    [The Washington Times Https, Gary D. Robertson]          None   \n",
       "4                                                 []          None   \n",
       "\n",
       "  date_modify         date_publish  \\\n",
       "0        None  2015-05-12 14:02:41   \n",
       "1        None  2014-04-30 00:00:00   \n",
       "2        None  2014-06-04 12:35:55   \n",
       "3        None  2014-02-08 18:45:20   \n",
       "4        None  2013-07-05 12:59:09   \n",
       "\n",
       "                                         description filename  \\\n",
       "0           Tribune-Star, Terre Haute. May 11, 2015.    .json   \n",
       "1  (CNN) -- In an exclusive interview with CNN Ch...    .json   \n",
       "2  A look at the likely limited spread of Seattle...    .json   \n",
       "3  Following a year marked by hundreds of arrests...    .json   \n",
       "4  Arguments over legislative tactics obscure que...    .json   \n",
       "\n",
       "                                           image_url language  localpath  \\\n",
       "0  //twt-assets.washtimes.com/images/favicon.3033...       en        NaN   \n",
       "1  http://i2.cdn.turner.com/cnn/dam/assets/140430...       en        NaN   \n",
       "2  https://www.washingtonpost.com/resizer/2CjPNwq...       en        NaN   \n",
       "3  https://twt-thumbs.washtimes.com/media/image/2...       en        NaN   \n",
       "4  https://www.washingtonpost.com/resizer/2CjPNwq...       en        NaN   \n",
       "\n",
       "                                            maintext  source_domain  text  \\\n",
       "0  Tribune-Star, Terre Haute. May 11, 2015.\\nSlim...            NaN   NaN   \n",
       "1  8 years ago\\n(CNN) - In an exclusive interview...            NaN   NaN   \n",
       "2  Wonkbook’s Chart of the Day: The decreasing va...            NaN   NaN   \n",
       "3  RALEIGH, N.C. (AP) - Following a year marked b...            NaN   NaN   \n",
       "4  Not to be outdone in the headlines by the Texa...            NaN   NaN   \n",
       "\n",
       "                                               title  title_page  title_rss  \\\n",
       "0  Recent editorials published in Indiana newspapers         NaN        NaN   \n",
       "1  Rep. Thompson doubles down on racial remarks i...         NaN        NaN   \n",
       "2  Wonkbook: Will Seattle’s $15 minimum wage expe...         NaN        NaN   \n",
       "3  Multitude at \"Moral March\" protest NC GOP poli...         NaN        NaN   \n",
       "4  Abortion restrictions in North Carolina Senate...         NaN        NaN   \n",
       "\n",
       "                                                 url  \n",
       "0  http://feedproxy.google.com/~r/Sports-TheWashi...  \n",
       "1  http://politicalticker.blogs.cnn.com/2014/04/3...  \n",
       "2  http://www.washingtonpost.com/blogs/wonkblog/w...  \n",
       "3  http://www.washingtontimes.com/news/2014/feb/8...  \n",
       "4  http://www.washingtonpost.com/blogs/she-the-pe...  "
      ]
     },
     "execution_count": 63,
     "metadata": {},
     "output_type": "execute_result"
    }
   ],
   "source": [
    "data = pd.read_json('output.json', lines=True) # convert to dataframe\n",
    "data.head()"
   ]
  },
  {
   "cell_type": "code",
   "execution_count": 64,
   "metadata": {},
   "outputs": [
    {
     "data": {
      "text/plain": [
       "'politicalticker.blogs.cnn.com'"
      ]
     },
     "execution_count": 64,
     "metadata": {},
     "output_type": "execute_result"
    }
   ],
   "source": [
    "# Find source from url link\n",
    "def urltosource(link):\n",
    "    source = urlparse(link).netloc\n",
    "    return source\n",
    "\n",
    "source = urltosource(data['url'][1]) #checking if it works\n",
    "source"
   ]
  },
  {
   "cell_type": "code",
   "execution_count": 65,
   "metadata": {},
   "outputs": [
    {
     "data": {
      "text/html": [
       "<div>\n",
       "<style scoped>\n",
       "    .dataframe tbody tr th:only-of-type {\n",
       "        vertical-align: middle;\n",
       "    }\n",
       "\n",
       "    .dataframe tbody tr th {\n",
       "        vertical-align: top;\n",
       "    }\n",
       "\n",
       "    .dataframe thead th {\n",
       "        text-align: right;\n",
       "    }\n",
       "</style>\n",
       "<table border=\"1\" class=\"dataframe\">\n",
       "  <thead>\n",
       "    <tr style=\"text-align: right;\">\n",
       "      <th></th>\n",
       "      <th>authors</th>\n",
       "      <th>date_download</th>\n",
       "      <th>date_modify</th>\n",
       "      <th>date_publish</th>\n",
       "      <th>description</th>\n",
       "      <th>filename</th>\n",
       "      <th>image_url</th>\n",
       "      <th>language</th>\n",
       "      <th>localpath</th>\n",
       "      <th>maintext</th>\n",
       "      <th>source_domain</th>\n",
       "      <th>text</th>\n",
       "      <th>title</th>\n",
       "      <th>title_page</th>\n",
       "      <th>title_rss</th>\n",
       "      <th>url</th>\n",
       "      <th>source</th>\n",
       "    </tr>\n",
       "  </thead>\n",
       "  <tbody>\n",
       "    <tr>\n",
       "      <th>0</th>\n",
       "      <td>[The Washington Times Https, The Associated Pr...</td>\n",
       "      <td>None</td>\n",
       "      <td>None</td>\n",
       "      <td>2015-05-12 14:02:41</td>\n",
       "      <td>Tribune-Star, Terre Haute. May 11, 2015.</td>\n",
       "      <td>.json</td>\n",
       "      <td>//twt-assets.washtimes.com/images/favicon.3033...</td>\n",
       "      <td>en</td>\n",
       "      <td>NaN</td>\n",
       "      <td>Tribune-Star, Terre Haute. May 11, 2015.\\nSlim...</td>\n",
       "      <td>NaN</td>\n",
       "      <td>NaN</td>\n",
       "      <td>Recent editorials published in Indiana newspapers</td>\n",
       "      <td>NaN</td>\n",
       "      <td>NaN</td>\n",
       "      <td>http://feedproxy.google.com/~r/Sports-TheWashi...</td>\n",
       "      <td>feedproxy.google.com</td>\n",
       "    </tr>\n",
       "    <tr>\n",
       "      <th>1</th>\n",
       "      <td>[Tampa Tim, Rudy Nyc, The, Compassionate, Gop ...</td>\n",
       "      <td>None</td>\n",
       "      <td>None</td>\n",
       "      <td>2014-04-30 00:00:00</td>\n",
       "      <td>(CNN) -- In an exclusive interview with CNN Ch...</td>\n",
       "      <td>.json</td>\n",
       "      <td>http://i2.cdn.turner.com/cnn/dam/assets/140430...</td>\n",
       "      <td>en</td>\n",
       "      <td>NaN</td>\n",
       "      <td>8 years ago\\n(CNN) - In an exclusive interview...</td>\n",
       "      <td>NaN</td>\n",
       "      <td>NaN</td>\n",
       "      <td>Rep. Thompson doubles down on racial remarks i...</td>\n",
       "      <td>NaN</td>\n",
       "      <td>NaN</td>\n",
       "      <td>http://politicalticker.blogs.cnn.com/2014/04/3...</td>\n",
       "      <td>politicalticker.blogs.cnn.com</td>\n",
       "    </tr>\n",
       "    <tr>\n",
       "      <th>2</th>\n",
       "      <td>[]</td>\n",
       "      <td>None</td>\n",
       "      <td>None</td>\n",
       "      <td>2014-06-04 12:35:55</td>\n",
       "      <td>A look at the likely limited spread of Seattle...</td>\n",
       "      <td>.json</td>\n",
       "      <td>https://www.washingtonpost.com/resizer/2CjPNwq...</td>\n",
       "      <td>en</td>\n",
       "      <td>NaN</td>\n",
       "      <td>Wonkbook’s Chart of the Day: The decreasing va...</td>\n",
       "      <td>NaN</td>\n",
       "      <td>NaN</td>\n",
       "      <td>Wonkbook: Will Seattle’s $15 minimum wage expe...</td>\n",
       "      <td>NaN</td>\n",
       "      <td>NaN</td>\n",
       "      <td>http://www.washingtonpost.com/blogs/wonkblog/w...</td>\n",
       "      <td>www.washingtonpost.com</td>\n",
       "    </tr>\n",
       "    <tr>\n",
       "      <th>3</th>\n",
       "      <td>[The Washington Times Https, Gary D. Robertson]</td>\n",
       "      <td>None</td>\n",
       "      <td>None</td>\n",
       "      <td>2014-02-08 18:45:20</td>\n",
       "      <td>Following a year marked by hundreds of arrests...</td>\n",
       "      <td>.json</td>\n",
       "      <td>https://twt-thumbs.washtimes.com/media/image/2...</td>\n",
       "      <td>en</td>\n",
       "      <td>NaN</td>\n",
       "      <td>RALEIGH, N.C. (AP) - Following a year marked b...</td>\n",
       "      <td>NaN</td>\n",
       "      <td>NaN</td>\n",
       "      <td>Multitude at \"Moral March\" protest NC GOP poli...</td>\n",
       "      <td>NaN</td>\n",
       "      <td>NaN</td>\n",
       "      <td>http://www.washingtontimes.com/news/2014/feb/8...</td>\n",
       "      <td>www.washingtontimes.com</td>\n",
       "    </tr>\n",
       "    <tr>\n",
       "      <th>4</th>\n",
       "      <td>[]</td>\n",
       "      <td>None</td>\n",
       "      <td>None</td>\n",
       "      <td>2013-07-05 12:59:09</td>\n",
       "      <td>Arguments over legislative tactics obscure que...</td>\n",
       "      <td>.json</td>\n",
       "      <td>https://www.washingtonpost.com/resizer/2CjPNwq...</td>\n",
       "      <td>en</td>\n",
       "      <td>NaN</td>\n",
       "      <td>Not to be outdone in the headlines by the Texa...</td>\n",
       "      <td>NaN</td>\n",
       "      <td>NaN</td>\n",
       "      <td>Abortion restrictions in North Carolina Senate...</td>\n",
       "      <td>NaN</td>\n",
       "      <td>NaN</td>\n",
       "      <td>http://www.washingtonpost.com/blogs/she-the-pe...</td>\n",
       "      <td>www.washingtonpost.com</td>\n",
       "    </tr>\n",
       "  </tbody>\n",
       "</table>\n",
       "</div>"
      ],
      "text/plain": [
       "                                             authors date_download  \\\n",
       "0  [The Washington Times Https, The Associated Pr...          None   \n",
       "1  [Tampa Tim, Rudy Nyc, The, Compassionate, Gop ...          None   \n",
       "2                                                 []          None   \n",
       "3    [The Washington Times Https, Gary D. Robertson]          None   \n",
       "4                                                 []          None   \n",
       "\n",
       "  date_modify         date_publish  \\\n",
       "0        None  2015-05-12 14:02:41   \n",
       "1        None  2014-04-30 00:00:00   \n",
       "2        None  2014-06-04 12:35:55   \n",
       "3        None  2014-02-08 18:45:20   \n",
       "4        None  2013-07-05 12:59:09   \n",
       "\n",
       "                                         description filename  \\\n",
       "0           Tribune-Star, Terre Haute. May 11, 2015.    .json   \n",
       "1  (CNN) -- In an exclusive interview with CNN Ch...    .json   \n",
       "2  A look at the likely limited spread of Seattle...    .json   \n",
       "3  Following a year marked by hundreds of arrests...    .json   \n",
       "4  Arguments over legislative tactics obscure que...    .json   \n",
       "\n",
       "                                           image_url language  localpath  \\\n",
       "0  //twt-assets.washtimes.com/images/favicon.3033...       en        NaN   \n",
       "1  http://i2.cdn.turner.com/cnn/dam/assets/140430...       en        NaN   \n",
       "2  https://www.washingtonpost.com/resizer/2CjPNwq...       en        NaN   \n",
       "3  https://twt-thumbs.washtimes.com/media/image/2...       en        NaN   \n",
       "4  https://www.washingtonpost.com/resizer/2CjPNwq...       en        NaN   \n",
       "\n",
       "                                            maintext  source_domain  text  \\\n",
       "0  Tribune-Star, Terre Haute. May 11, 2015.\\nSlim...            NaN   NaN   \n",
       "1  8 years ago\\n(CNN) - In an exclusive interview...            NaN   NaN   \n",
       "2  Wonkbook’s Chart of the Day: The decreasing va...            NaN   NaN   \n",
       "3  RALEIGH, N.C. (AP) - Following a year marked b...            NaN   NaN   \n",
       "4  Not to be outdone in the headlines by the Texa...            NaN   NaN   \n",
       "\n",
       "                                               title  title_page  title_rss  \\\n",
       "0  Recent editorials published in Indiana newspapers         NaN        NaN   \n",
       "1  Rep. Thompson doubles down on racial remarks i...         NaN        NaN   \n",
       "2  Wonkbook: Will Seattle’s $15 minimum wage expe...         NaN        NaN   \n",
       "3  Multitude at \"Moral March\" protest NC GOP poli...         NaN        NaN   \n",
       "4  Abortion restrictions in North Carolina Senate...         NaN        NaN   \n",
       "\n",
       "                                                 url  \\\n",
       "0  http://feedproxy.google.com/~r/Sports-TheWashi...   \n",
       "1  http://politicalticker.blogs.cnn.com/2014/04/3...   \n",
       "2  http://www.washingtonpost.com/blogs/wonkblog/w...   \n",
       "3  http://www.washingtontimes.com/news/2014/feb/8...   \n",
       "4  http://www.washingtonpost.com/blogs/she-the-pe...   \n",
       "\n",
       "                          source  \n",
       "0           feedproxy.google.com  \n",
       "1  politicalticker.blogs.cnn.com  \n",
       "2         www.washingtonpost.com  \n",
       "3        www.washingtontimes.com  \n",
       "4         www.washingtonpost.com  "
      ]
     },
     "execution_count": 65,
     "metadata": {},
     "output_type": "execute_result"
    }
   ],
   "source": [
    "# Create a source column from urls\n",
    "data['source'] = data['url'].apply(urltosource)\n",
    "data.head()"
   ]
  },
  {
   "cell_type": "code",
   "execution_count": 66,
   "metadata": {},
   "outputs": [],
   "source": [
    "# save data to csv file\n",
    "data.to_csv('C:/Users/analo/OneDrive - University of Glasgow/University of Glasgow/Amsterdam Visit/Project/Corpus.csv', index = False)"
   ]
  }
 ],
 "metadata": {
  "interpreter": {
   "hash": "69226dc651b7fbb4cbb68815143d2221db9c2a369a5e9beb9597b16c0cffa010"
  },
  "kernelspec": {
   "display_name": "Python 3.9.12 64-bit (windows store)",
   "language": "python",
   "name": "python3"
  },
  "language_info": {
   "codemirror_mode": {
    "name": "ipython",
    "version": 3
   },
   "file_extension": ".py",
   "mimetype": "text/x-python",
   "name": "python",
   "nbconvert_exporter": "python",
   "pygments_lexer": "ipython3",
   "version": "3.9.12"
  },
  "orig_nbformat": 4
 },
 "nbformat": 4,
 "nbformat_minor": 2
}
