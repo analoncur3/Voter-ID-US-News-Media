{
 "cells": [
  {
   "cell_type": "code",
   "execution_count": null,
   "metadata": {},
   "outputs": [],
   "source": [
    "!pip3 install news-please"
   ]
  },
  {
   "cell_type": "code",
   "execution_count": 2,
   "metadata": {},
   "outputs": [],
   "source": [
    "import pandas as pd\n",
    "import requests\n",
    "import time\n",
    "import newsplease\n",
    "from tqdm import tqdm\n",
    "import json\n",
    "import os\n",
    "from newsplease import NewsPlease\n",
    "from urllib.parse import urlparse"
   ]
  },
  {
   "cell_type": "markdown",
   "metadata": {},
   "source": [
    "### URL File from Mediacloud"
   ]
  },
  {
   "cell_type": "code",
   "execution_count": 34,
   "metadata": {},
   "outputs": [
    {
     "data": {
      "text/html": [
       "<div>\n",
       "<style scoped>\n",
       "    .dataframe tbody tr th:only-of-type {\n",
       "        vertical-align: middle;\n",
       "    }\n",
       "\n",
       "    .dataframe tbody tr th {\n",
       "        vertical-align: top;\n",
       "    }\n",
       "\n",
       "    .dataframe thead th {\n",
       "        text-align: right;\n",
       "    }\n",
       "</style>\n",
       "<table border=\"1\" class=\"dataframe\">\n",
       "  <thead>\n",
       "    <tr style=\"text-align: right;\">\n",
       "      <th></th>\n",
       "      <th>stories_id</th>\n",
       "      <th>publish_date</th>\n",
       "      <th>title</th>\n",
       "      <th>url</th>\n",
       "      <th>language</th>\n",
       "      <th>ap_syndicated</th>\n",
       "      <th>themes</th>\n",
       "      <th>media_id</th>\n",
       "      <th>media_name</th>\n",
       "      <th>media_url</th>\n",
       "    </tr>\n",
       "  </thead>\n",
       "  <tbody>\n",
       "    <tr>\n",
       "      <th>0</th>\n",
       "      <td>318516682</td>\n",
       "      <td>2015-02-13 15:13:13</td>\n",
       "      <td>Republicans are pledging to win more of the bl...</td>\n",
       "      <td>http://feeds.voices.washingtonpost.com/c/34656...</td>\n",
       "      <td>en</td>\n",
       "      <td>False</td>\n",
       "      <td>NaN</td>\n",
       "      <td>2</td>\n",
       "      <td>Washington Post</td>\n",
       "      <td>http://washingtonpost.com</td>\n",
       "    </tr>\n",
       "    <tr>\n",
       "      <th>1</th>\n",
       "      <td>323242249</td>\n",
       "      <td>2015-03-02 17:28:43</td>\n",
       "      <td>Justices Show Skepticism on Independent Redist...</td>\n",
       "      <td>http://rss.nytimes.com/c/34625/f/642562/s/43f6...</td>\n",
       "      <td>en</td>\n",
       "      <td>False</td>\n",
       "      <td>NaN</td>\n",
       "      <td>1</td>\n",
       "      <td>New York Times</td>\n",
       "      <td>http://nytimes.com</td>\n",
       "    </tr>\n",
       "    <tr>\n",
       "      <th>2</th>\n",
       "      <td>323401825</td>\n",
       "      <td>2015-03-03 00:45:38</td>\n",
       "      <td>New NYC municipal ID law allows city to destro...</td>\n",
       "      <td>http://feeds.foxnews.com/~r/foxnews/politics/~...</td>\n",
       "      <td>en</td>\n",
       "      <td>False</td>\n",
       "      <td>NaN</td>\n",
       "      <td>1092</td>\n",
       "      <td>Fox News</td>\n",
       "      <td>http://www.foxnews.com/</td>\n",
       "    </tr>\n",
       "    <tr>\n",
       "      <th>3</th>\n",
       "      <td>324190194</td>\n",
       "      <td>2015-03-05 16:08:00</td>\n",
       "      <td>Gov. Scott Walker's miserable leadership skills</td>\n",
       "      <td>http://feeds.chicagotribune.com/~r/chicagotrib...</td>\n",
       "      <td>en</td>\n",
       "      <td>False</td>\n",
       "      <td>NaN</td>\n",
       "      <td>9</td>\n",
       "      <td>Chicago Tribune</td>\n",
       "      <td>http://www.chicagotribune.com/</td>\n",
       "    </tr>\n",
       "    <tr>\n",
       "      <th>4</th>\n",
       "      <td>324879421</td>\n",
       "      <td>2015-03-08 12:40:01</td>\n",
       "      <td>2nd Bridge Crossing Planned at Selma Commemora...</td>\n",
       "      <td>http://rss.nytimes.com/c/34625/f/642562/s/442a...</td>\n",
       "      <td>en</td>\n",
       "      <td>False</td>\n",
       "      <td>NaN</td>\n",
       "      <td>1</td>\n",
       "      <td>New York Times</td>\n",
       "      <td>http://nytimes.com</td>\n",
       "    </tr>\n",
       "  </tbody>\n",
       "</table>\n",
       "</div>"
      ],
      "text/plain": [
       "   stories_id         publish_date  \\\n",
       "0   318516682  2015-02-13 15:13:13   \n",
       "1   323242249  2015-03-02 17:28:43   \n",
       "2   323401825  2015-03-03 00:45:38   \n",
       "3   324190194  2015-03-05 16:08:00   \n",
       "4   324879421  2015-03-08 12:40:01   \n",
       "\n",
       "                                               title  \\\n",
       "0  Republicans are pledging to win more of the bl...   \n",
       "1  Justices Show Skepticism on Independent Redist...   \n",
       "2  New NYC municipal ID law allows city to destro...   \n",
       "3    Gov. Scott Walker's miserable leadership skills   \n",
       "4  2nd Bridge Crossing Planned at Selma Commemora...   \n",
       "\n",
       "                                                 url language  ap_syndicated  \\\n",
       "0  http://feeds.voices.washingtonpost.com/c/34656...       en          False   \n",
       "1  http://rss.nytimes.com/c/34625/f/642562/s/43f6...       en          False   \n",
       "2  http://feeds.foxnews.com/~r/foxnews/politics/~...       en          False   \n",
       "3  http://feeds.chicagotribune.com/~r/chicagotrib...       en          False   \n",
       "4  http://rss.nytimes.com/c/34625/f/642562/s/442a...       en          False   \n",
       "\n",
       "  themes  media_id       media_name                       media_url  \n",
       "0    NaN         2  Washington Post       http://washingtonpost.com  \n",
       "1    NaN         1   New York Times              http://nytimes.com  \n",
       "2    NaN      1092         Fox News         http://www.foxnews.com/  \n",
       "3    NaN         9  Chicago Tribune  http://www.chicagotribune.com/  \n",
       "4    NaN         1   New York Times              http://nytimes.com  "
      ]
     },
     "execution_count": 34,
     "metadata": {},
     "output_type": "execute_result"
    }
   ],
   "source": [
    "df_urls = pd.read_csv('C:/Users/analo/OneDrive - UvA/Project/Data/Mediacloud urls/VoterID.csv') #loading url file\n",
    "df_urls.head()  "
   ]
  },
  {
   "cell_type": "code",
   "execution_count": 35,
   "metadata": {},
   "outputs": [
    {
     "data": {
      "text/html": [
       "<div>\n",
       "<style scoped>\n",
       "    .dataframe tbody tr th:only-of-type {\n",
       "        vertical-align: middle;\n",
       "    }\n",
       "\n",
       "    .dataframe tbody tr th {\n",
       "        vertical-align: top;\n",
       "    }\n",
       "\n",
       "    .dataframe thead th {\n",
       "        text-align: right;\n",
       "    }\n",
       "</style>\n",
       "<table border=\"1\" class=\"dataframe\">\n",
       "  <thead>\n",
       "    <tr style=\"text-align: right;\">\n",
       "      <th></th>\n",
       "      <th>media_url</th>\n",
       "    </tr>\n",
       "  </thead>\n",
       "  <tbody>\n",
       "    <tr>\n",
       "      <th>http://washingtonpost.com</th>\n",
       "      <td>593</td>\n",
       "    </tr>\n",
       "    <tr>\n",
       "      <th>http://www.foxnews.com/</th>\n",
       "      <td>483</td>\n",
       "    </tr>\n",
       "    <tr>\n",
       "      <th>http://nytimes.com</th>\n",
       "      <td>313</td>\n",
       "    </tr>\n",
       "    <tr>\n",
       "      <th>http://www.cnn.com/</th>\n",
       "      <td>309</td>\n",
       "    </tr>\n",
       "    <tr>\n",
       "      <th>http://www.nypost.com/</th>\n",
       "      <td>98</td>\n",
       "    </tr>\n",
       "    <tr>\n",
       "      <th>http://www.chicagotribune.com/</th>\n",
       "      <td>49</td>\n",
       "    </tr>\n",
       "  </tbody>\n",
       "</table>\n",
       "</div>"
      ],
      "text/plain": [
       "                                media_url\n",
       "http://washingtonpost.com             593\n",
       "http://www.foxnews.com/               483\n",
       "http://nytimes.com                    313\n",
       "http://www.cnn.com/                   309\n",
       "http://www.nypost.com/                 98\n",
       "http://www.chicagotribune.com/         49"
      ]
     },
     "execution_count": 35,
     "metadata": {},
     "output_type": "execute_result"
    }
   ],
   "source": [
    "pd.DataFrame(df_urls['media_url'].value_counts()) #counting urls per news media source"
   ]
  },
  {
   "cell_type": "code",
   "execution_count": null,
   "metadata": {},
   "outputs": [],
   "source": [
    "# checking if NewsPlease works with one url\n",
    "article = NewsPlease.from_url('http://rss.cnn.com/~r/rss/cnn_latest/~3/23KEGtvT-bo/index.html')\n",
    "print(article.title)\n",
    "print(article.maintext)"
   ]
  },
  {
   "cell_type": "markdown",
   "metadata": {},
   "source": [
    "### Retrieving articles from URLs"
   ]
  },
  {
   "cell_type": "markdown",
   "metadata": {},
   "source": [
    "We load the txt file with a list of urls and retrieve stories. "
   ]
  },
  {
   "cell_type": "code",
   "execution_count": 3,
   "metadata": {},
   "outputs": [],
   "source": [
    "name = 'urls.txt'\n",
    "basepath = 'C:/Users/analo/OneDrive - UvA/Project/Data/'\n",
    "articles = NewsPlease.from_file(basepath + name)"
   ]
  },
  {
   "cell_type": "code",
   "execution_count": 4,
   "metadata": {},
   "outputs": [],
   "source": [
    "# Damians beautiful code!\n",
    "with open(\"output.json\", mode = 'w') as f:\n",
    "    for v in articles.values():\n",
    "        f.write(json.dumps(v.get_serializable_dict()))\n",
    "        f.write(\"\\n\")"
   ]
  },
  {
   "cell_type": "code",
   "execution_count": 5,
   "metadata": {},
   "outputs": [],
   "source": [
    "data = pd.read_json('output.json', lines=True) # convert to dataframe"
   ]
  },
  {
   "cell_type": "code",
   "execution_count": null,
   "metadata": {},
   "outputs": [],
   "source": [
    "data['maintext'][10]"
   ]
  },
  {
   "cell_type": "code",
   "execution_count": 5,
   "metadata": {},
   "outputs": [],
   "source": [
    "# create list of all urls from txt file\n",
    "with open('C:/Users/analo/OneDrive - UvA/Project/Data/Mediacloud urls/VoterID.txt') as f:\n",
    "    urls = [e.strip() for e in f.readlines()]\n"
   ]
  },
  {
   "cell_type": "code",
   "execution_count": 8,
   "metadata": {},
   "outputs": [
    {
     "data": {
      "text/plain": [
       "1845"
      ]
     },
     "execution_count": 8,
     "metadata": {},
     "output_type": "execute_result"
    }
   ],
   "source": [
    "len(urls) # check amount of urls"
   ]
  },
  {
   "cell_type": "code",
   "execution_count": null,
   "metadata": {},
   "outputs": [],
   "source": [
    "# retrieve html pages from list of urls \n",
    "allpages = {}\n",
    "for url in tqdm(urls):\n",
    "    try:\n",
    "        r = requests.get(url)\n",
    "        if r.status_code==200:\n",
    "            allpages[url] = r.text #only read the html text if page exists\n",
    "        else:\n",
    "            print(f'Downloading {url} returned status code {r.status_code}')\n",
    "    except:\n",
    "        print(f'some error occurred when downloading {url}')\n",
    "with open('TMP.json',  mode='w') as f:\n",
    "    json.dump( allpages, f)"
   ]
  },
  {
   "cell_type": "code",
   "execution_count": 7,
   "metadata": {},
   "outputs": [
    {
     "data": {
      "text/plain": [
       "1682"
      ]
     },
     "execution_count": 7,
     "metadata": {},
     "output_type": "execute_result"
    }
   ],
   "source": [
    "len(allpages) # check how many pages were retrieved\n"
   ]
  },
  {
   "cell_type": "code",
   "execution_count": 9,
   "metadata": {},
   "outputs": [
    {
     "name": "stderr",
     "output_type": "stream",
     "text": [
      " 13%|█▎        | 217/1682 [01:21<10:06,  2.42it/s]C:\\Users\\analo\\AppData\\Local\\Packages\\PythonSoftwareFoundation.Python.3.9_qbz5n2kfra8p0\\LocalCache\\local-packages\\Python39\\site-packages\\dateutil\\parser\\_parser.py:1207: UnknownTimezoneWarning: tzname CST identified but not understood.  Pass `tzinfos` argument in order to correctly return a timezone-aware datetime.  In a future version, this will raise an exception.\n",
      "  warnings.warn(\"tzname {tzname} identified but not understood.  \"\n",
      "100%|██████████| 1682/1682 [14:14<00:00,  1.97it/s]\n"
     ]
    }
   ],
   "source": [
    "allpages_parsed = {}\n",
    "for k, v in tqdm(allpages.items()):\n",
    "    allpages_parsed[k] = NewsPlease.from_html(v) # use NewsPlease here to download the stories from the html info retrieved"
   ]
  },
  {
   "cell_type": "code",
   "execution_count": null,
   "metadata": {},
   "outputs": [],
   "source": [
    "# checking whether source domain is there\n",
    "for k, v in allpages_parsed.items():\n",
    "    print(v.source_domain)"
   ]
  },
  {
   "cell_type": "code",
   "execution_count": 10,
   "metadata": {},
   "outputs": [],
   "source": [
    "with open(\"output.json\", mode = 'w') as f: #write json file with media data\n",
    "    for k, v in allpages_parsed.items():\n",
    "        mydict = v.get_serializable_dict()\n",
    "        mydict['url'] = k\n",
    "        f.write(json.dumps(mydict))\n",
    "        f.write(\"\\n\")"
   ]
  },
  {
   "cell_type": "code",
   "execution_count": null,
   "metadata": {},
   "outputs": [],
   "source": [
    "data = pd.read_json('output.json', lines=True) # convert to dataframe"
   ]
  },
  {
   "cell_type": "code",
   "execution_count": 19,
   "metadata": {},
   "outputs": [
    {
     "data": {
      "text/plain": [
       "'www.washingtonpost.com'"
      ]
     },
     "execution_count": 19,
     "metadata": {},
     "output_type": "execute_result"
    }
   ],
   "source": [
    "# Find source from url link\n",
    "def urltosource(link):\n",
    "    source = urlparse(link).netloc\n",
    "    return source\n",
    "\n",
    "source = urltosource(data['url'][1]) #checking if it works\n",
    "source"
   ]
  },
  {
   "cell_type": "code",
   "execution_count": 20,
   "metadata": {},
   "outputs": [
    {
     "data": {
      "text/html": [
       "<div>\n",
       "<style scoped>\n",
       "    .dataframe tbody tr th:only-of-type {\n",
       "        vertical-align: middle;\n",
       "    }\n",
       "\n",
       "    .dataframe tbody tr th {\n",
       "        vertical-align: top;\n",
       "    }\n",
       "\n",
       "    .dataframe thead th {\n",
       "        text-align: right;\n",
       "    }\n",
       "</style>\n",
       "<table border=\"1\" class=\"dataframe\">\n",
       "  <thead>\n",
       "    <tr style=\"text-align: right;\">\n",
       "      <th></th>\n",
       "      <th>authors</th>\n",
       "      <th>date_download</th>\n",
       "      <th>date_modify</th>\n",
       "      <th>date_publish</th>\n",
       "      <th>description</th>\n",
       "      <th>filename</th>\n",
       "      <th>image_url</th>\n",
       "      <th>language</th>\n",
       "      <th>localpath</th>\n",
       "      <th>maintext</th>\n",
       "      <th>source_domain</th>\n",
       "      <th>text</th>\n",
       "      <th>title</th>\n",
       "      <th>title_page</th>\n",
       "      <th>title_rss</th>\n",
       "      <th>url</th>\n",
       "      <th>source</th>\n",
       "    </tr>\n",
       "  </thead>\n",
       "  <tbody>\n",
       "    <tr>\n",
       "      <th>0</th>\n",
       "      <td>[Tampa Tim, Rudy Nyc, The, Compassionate, Gop ...</td>\n",
       "      <td>None</td>\n",
       "      <td>None</td>\n",
       "      <td>2014-04-30 00:00:00</td>\n",
       "      <td>(CNN) -- In an exclusive interview with CNN Ch...</td>\n",
       "      <td>.json</td>\n",
       "      <td>http://i2.cdn.turner.com/cnn/dam/assets/140430...</td>\n",
       "      <td>en</td>\n",
       "      <td>NaN</td>\n",
       "      <td>8 years ago\\n(CNN) - In an exclusive interview...</td>\n",
       "      <td>NaN</td>\n",
       "      <td>NaN</td>\n",
       "      <td>Rep. Thompson doubles down on racial remarks i...</td>\n",
       "      <td>NaN</td>\n",
       "      <td>NaN</td>\n",
       "      <td>http://politicalticker.blogs.cnn.com/2014/04/3...</td>\n",
       "      <td>politicalticker.blogs.cnn.com</td>\n",
       "    </tr>\n",
       "    <tr>\n",
       "      <th>1</th>\n",
       "      <td>[]</td>\n",
       "      <td>None</td>\n",
       "      <td>None</td>\n",
       "      <td>2014-06-04 12:35:55</td>\n",
       "      <td>A look at the likely limited spread of Seattle...</td>\n",
       "      <td>.json</td>\n",
       "      <td>https://www.washingtonpost.com/resizer/2CjPNwq...</td>\n",
       "      <td>en</td>\n",
       "      <td>NaN</td>\n",
       "      <td>Wonkbook’s Chart of the Day: The decreasing va...</td>\n",
       "      <td>NaN</td>\n",
       "      <td>NaN</td>\n",
       "      <td>Wonkbook: Will Seattle’s $15 minimum wage expe...</td>\n",
       "      <td>NaN</td>\n",
       "      <td>NaN</td>\n",
       "      <td>http://www.washingtonpost.com/blogs/wonkblog/w...</td>\n",
       "      <td>www.washingtonpost.com</td>\n",
       "    </tr>\n",
       "    <tr>\n",
       "      <th>2</th>\n",
       "      <td>[]</td>\n",
       "      <td>None</td>\n",
       "      <td>None</td>\n",
       "      <td>2013-07-05 12:59:09</td>\n",
       "      <td>Arguments over legislative tactics obscure que...</td>\n",
       "      <td>.json</td>\n",
       "      <td>https://www.washingtonpost.com/resizer/2CjPNwq...</td>\n",
       "      <td>en</td>\n",
       "      <td>NaN</td>\n",
       "      <td>Candidate McCrory tried to occupy a middle gro...</td>\n",
       "      <td>NaN</td>\n",
       "      <td>NaN</td>\n",
       "      <td>Abortion restrictions in North Carolina Senate...</td>\n",
       "      <td>NaN</td>\n",
       "      <td>NaN</td>\n",
       "      <td>http://www.washingtonpost.com/blogs/she-the-pe...</td>\n",
       "      <td>www.washingtonpost.com</td>\n",
       "    </tr>\n",
       "    <tr>\n",
       "      <th>3</th>\n",
       "      <td>[Tom Lobianco]</td>\n",
       "      <td>None</td>\n",
       "      <td>None</td>\n",
       "      <td>2015-08-06 16:50:30</td>\n",
       "      <td>An appeals court ruled late Wednesday that a k...</td>\n",
       "      <td>.json</td>\n",
       "      <td>https://cdn.cnn.com/cnnnext/dam/assets/1112290...</td>\n",
       "      <td>en</td>\n",
       "      <td>NaN</td>\n",
       "      <td>Story highlights An appeals court ruled that a...</td>\n",
       "      <td>NaN</td>\n",
       "      <td>NaN</td>\n",
       "      <td>Texas voter ID law: Appeals court strikes down...</td>\n",
       "      <td>NaN</td>\n",
       "      <td>NaN</td>\n",
       "      <td>http://rss.cnn.com/~r/rss/cnn_latest/~3/LB85Py...</td>\n",
       "      <td>rss.cnn.com</td>\n",
       "    </tr>\n",
       "    <tr>\n",
       "      <th>4</th>\n",
       "      <td>[]</td>\n",
       "      <td>None</td>\n",
       "      <td>None</td>\n",
       "      <td>2017-11-18 14:37:43</td>\n",
       "      <td>Gov. Bruce Rauner seems to admire Gov. Scott W...</td>\n",
       "      <td>.json</td>\n",
       "      <td>https://www.chicagotribune.com/resizer/Dq9daIb...</td>\n",
       "      <td>en</td>\n",
       "      <td>NaN</td>\n",
       "      <td>Gov. Mark Dayton of Minnesota took an opposite...</td>\n",
       "      <td>NaN</td>\n",
       "      <td>NaN</td>\n",
       "      <td>Will Illinois be the next Wisconsin?</td>\n",
       "      <td>NaN</td>\n",
       "      <td>NaN</td>\n",
       "      <td>http://feeds.chicagotribune.com/~r/chicagotrib...</td>\n",
       "      <td>feeds.chicagotribune.com</td>\n",
       "    </tr>\n",
       "  </tbody>\n",
       "</table>\n",
       "</div>"
      ],
      "text/plain": [
       "                                             authors date_download  \\\n",
       "0  [Tampa Tim, Rudy Nyc, The, Compassionate, Gop ...          None   \n",
       "1                                                 []          None   \n",
       "2                                                 []          None   \n",
       "3                                     [Tom Lobianco]          None   \n",
       "4                                                 []          None   \n",
       "\n",
       "  date_modify         date_publish  \\\n",
       "0        None  2014-04-30 00:00:00   \n",
       "1        None  2014-06-04 12:35:55   \n",
       "2        None  2013-07-05 12:59:09   \n",
       "3        None  2015-08-06 16:50:30   \n",
       "4        None  2017-11-18 14:37:43   \n",
       "\n",
       "                                         description filename  \\\n",
       "0  (CNN) -- In an exclusive interview with CNN Ch...    .json   \n",
       "1  A look at the likely limited spread of Seattle...    .json   \n",
       "2  Arguments over legislative tactics obscure que...    .json   \n",
       "3  An appeals court ruled late Wednesday that a k...    .json   \n",
       "4  Gov. Bruce Rauner seems to admire Gov. Scott W...    .json   \n",
       "\n",
       "                                           image_url language  localpath  \\\n",
       "0  http://i2.cdn.turner.com/cnn/dam/assets/140430...       en        NaN   \n",
       "1  https://www.washingtonpost.com/resizer/2CjPNwq...       en        NaN   \n",
       "2  https://www.washingtonpost.com/resizer/2CjPNwq...       en        NaN   \n",
       "3  https://cdn.cnn.com/cnnnext/dam/assets/1112290...       en        NaN   \n",
       "4  https://www.chicagotribune.com/resizer/Dq9daIb...       en        NaN   \n",
       "\n",
       "                                            maintext  source_domain  text  \\\n",
       "0  8 years ago\\n(CNN) - In an exclusive interview...            NaN   NaN   \n",
       "1  Wonkbook’s Chart of the Day: The decreasing va...            NaN   NaN   \n",
       "2  Candidate McCrory tried to occupy a middle gro...            NaN   NaN   \n",
       "3  Story highlights An appeals court ruled that a...            NaN   NaN   \n",
       "4  Gov. Mark Dayton of Minnesota took an opposite...            NaN   NaN   \n",
       "\n",
       "                                               title  title_page  title_rss  \\\n",
       "0  Rep. Thompson doubles down on racial remarks i...         NaN        NaN   \n",
       "1  Wonkbook: Will Seattle’s $15 minimum wage expe...         NaN        NaN   \n",
       "2  Abortion restrictions in North Carolina Senate...         NaN        NaN   \n",
       "3  Texas voter ID law: Appeals court strikes down...         NaN        NaN   \n",
       "4               Will Illinois be the next Wisconsin?         NaN        NaN   \n",
       "\n",
       "                                                 url  \\\n",
       "0  http://politicalticker.blogs.cnn.com/2014/04/3...   \n",
       "1  http://www.washingtonpost.com/blogs/wonkblog/w...   \n",
       "2  http://www.washingtonpost.com/blogs/she-the-pe...   \n",
       "3  http://rss.cnn.com/~r/rss/cnn_latest/~3/LB85Py...   \n",
       "4  http://feeds.chicagotribune.com/~r/chicagotrib...   \n",
       "\n",
       "                          source  \n",
       "0  politicalticker.blogs.cnn.com  \n",
       "1         www.washingtonpost.com  \n",
       "2         www.washingtonpost.com  \n",
       "3                    rss.cnn.com  \n",
       "4       feeds.chicagotribune.com  "
      ]
     },
     "execution_count": 20,
     "metadata": {},
     "output_type": "execute_result"
    }
   ],
   "source": [
    "# Create a source column from urls\n",
    "data['source'] = data['url'].apply(urltosource)\n",
    "data.head()"
   ]
  },
  {
   "cell_type": "code",
   "execution_count": 24,
   "metadata": {},
   "outputs": [],
   "source": [
    "# save data to csv file\n",
    "data.to_csv('C:/Users/analo/OneDrive - UvA/Project/Data/Mediacloud urls/Data.csv', index = False)"
   ]
  },
  {
   "cell_type": "markdown",
   "metadata": {},
   "source": [
    "## Descriptive stats"
   ]
  },
  {
   "cell_type": "code",
   "execution_count": null,
   "metadata": {},
   "outputs": [],
   "source": [
    "# load categorised data by media ideological affiliation\n",
    "df = pd.read_csv('C:/Users/analo/OneDrive - UvA/Project/Data/Mediacloud urls/Data_modified.csv')\n",
    "df.head()  "
   ]
  },
  {
   "cell_type": "code",
   "execution_count": 4,
   "metadata": {},
   "outputs": [
    {
     "data": {
      "text/html": [
       "<div>\n",
       "<style scoped>\n",
       "    .dataframe tbody tr th:only-of-type {\n",
       "        vertical-align: middle;\n",
       "    }\n",
       "\n",
       "    .dataframe tbody tr th {\n",
       "        vertical-align: top;\n",
       "    }\n",
       "\n",
       "    .dataframe thead th {\n",
       "        text-align: right;\n",
       "    }\n",
       "</style>\n",
       "<table border=\"1\" class=\"dataframe\">\n",
       "  <thead>\n",
       "    <tr style=\"text-align: right;\">\n",
       "      <th></th>\n",
       "      <th>type2</th>\n",
       "    </tr>\n",
       "  </thead>\n",
       "  <tbody>\n",
       "    <tr>\n",
       "      <th>liberal</th>\n",
       "      <td>773</td>\n",
       "    </tr>\n",
       "    <tr>\n",
       "      <th>conservative</th>\n",
       "      <td>570</td>\n",
       "    </tr>\n",
       "    <tr>\n",
       "      <th>moderate</th>\n",
       "      <td>331</td>\n",
       "    </tr>\n",
       "  </tbody>\n",
       "</table>\n",
       "</div>"
      ],
      "text/plain": [
       "              type2\n",
       "liberal         773\n",
       "conservative    570\n",
       "moderate        331"
      ]
     },
     "execution_count": 4,
     "metadata": {},
     "output_type": "execute_result"
    }
   ],
   "source": [
    "domain = df['type2'].value_counts()\n",
    "pd.DataFrame(domain)"
   ]
  },
  {
   "cell_type": "code",
   "execution_count": 5,
   "metadata": {},
   "outputs": [
    {
     "data": {
      "image/png": "[encoded data removed]",
      "text/plain": [
       "<Figure size 504x360 with 1 Axes>"
      ]
     },
     "metadata": {
      "needs_background": "light"
     },
     "output_type": "display_data"
    }
   ],
   "source": [
    "ax = domain.sort_index().plot(kind='bar', fontsize=14, figsize=(7,5)) # Counting articles per news source\n",
    "ax.set_title('Domain Article Count\\n', fontsize=20)\n",
    "ax.set_xlabel('Source', fontsize=18)\n",
    "ax.set_ylabel('Articles', fontsize=18);"
   ]
  },
  {
   "cell_type": "markdown",
   "metadata": {},
   "source": [
    "Fetching stories from a txt file containing all URLs (each line containing a single URL)"
   ]
  },
  {
   "cell_type": "code",
   "execution_count": 43,
   "metadata": {},
   "outputs": [],
   "source": [
    "# clean dataframe a bit\n",
    "df = data.drop(columns=['date_modify', 'date_download', 'filename', 'image_url', 'language', 'localpath', 'text', 'title_page', 'title_rss', 'authors', 'url','description']) # Remove columns"
   ]
  },
  {
   "cell_type": "code",
   "execution_count": 48,
   "metadata": {},
   "outputs": [
    {
     "data": {
      "text/html": [
       "<div>\n",
       "<style scoped>\n",
       "    .dataframe tbody tr th:only-of-type {\n",
       "        vertical-align: middle;\n",
       "    }\n",
       "\n",
       "    .dataframe tbody tr th {\n",
       "        vertical-align: top;\n",
       "    }\n",
       "\n",
       "    .dataframe thead th {\n",
       "        text-align: right;\n",
       "    }\n",
       "</style>\n",
       "<table border=\"1\" class=\"dataframe\">\n",
       "  <thead>\n",
       "    <tr style=\"text-align: right;\">\n",
       "      <th></th>\n",
       "      <th>date_publish</th>\n",
       "      <th>maintext</th>\n",
       "      <th>source_domain</th>\n",
       "      <th>title</th>\n",
       "      <th>Date</th>\n",
       "    </tr>\n",
       "  </thead>\n",
       "  <tbody>\n",
       "    <tr>\n",
       "      <th>0</th>\n",
       "      <td>2020-09-03 14:01:50</td>\n",
       "      <td>NEW You can now listen to Fox News articles!\\n...</td>\n",
       "      <td>www.foxnews.com</td>\n",
       "      <td>Arnold Schwarzenegger offers to pay for reopen...</td>\n",
       "      <td>2020-09-03 14:01:50</td>\n",
       "    </tr>\n",
       "    <tr>\n",
       "      <th>1</th>\n",
       "      <td>2020-07-23 06:00:01</td>\n",
       "      <td>With the death of Congressman John Lewis, Amer...</td>\n",
       "      <td>www.newsweek.com</td>\n",
       "      <td>MLK III: In the Name of John Lewis, Let Us Res...</td>\n",
       "      <td>2020-07-23 06:00:01</td>\n",
       "    </tr>\n",
       "    <tr>\n",
       "      <th>2</th>\n",
       "      <td>2020-09-28 18:33:10</td>\n",
       "      <td>NEW You can now listen to Fox News articles!\\n...</td>\n",
       "      <td>www.foxnews.com</td>\n",
       "      <td>Wisconsin voters win protection against strict...</td>\n",
       "      <td>2020-09-28 18:33:10</td>\n",
       "    </tr>\n",
       "    <tr>\n",
       "      <th>3</th>\n",
       "      <td>2020-02-13 21:31:08</td>\n",
       "      <td>The decree will be enforced by a federal court...</td>\n",
       "      <td>www.nytimes.com</td>\n",
       "      <td>North Dakota Tribes Score Key Voting Rights Vi...</td>\n",
       "      <td>2020-02-13 21:31:08</td>\n",
       "    </tr>\n",
       "    <tr>\n",
       "      <th>4</th>\n",
       "      <td>2020-11-05 03:03:39</td>\n",
       "      <td>With concerns mounting over how the country ca...</td>\n",
       "      <td>www.nytimes.com</td>\n",
       "      <td>Trump Is Pushing a False Argument on Vote-by-M...</td>\n",
       "      <td>2020-11-05 03:03:39</td>\n",
       "    </tr>\n",
       "  </tbody>\n",
       "</table>\n",
       "</div>"
      ],
      "text/plain": [
       "          date_publish                                           maintext  \\\n",
       "0  2020-09-03 14:01:50  NEW You can now listen to Fox News articles!\\n...   \n",
       "1  2020-07-23 06:00:01  With the death of Congressman John Lewis, Amer...   \n",
       "2  2020-09-28 18:33:10  NEW You can now listen to Fox News articles!\\n...   \n",
       "3  2020-02-13 21:31:08  The decree will be enforced by a federal court...   \n",
       "4  2020-11-05 03:03:39  With concerns mounting over how the country ca...   \n",
       "\n",
       "      source_domain                                              title  \\\n",
       "0   www.foxnews.com  Arnold Schwarzenegger offers to pay for reopen...   \n",
       "1  www.newsweek.com  MLK III: In the Name of John Lewis, Let Us Res...   \n",
       "2   www.foxnews.com  Wisconsin voters win protection against strict...   \n",
       "3   www.nytimes.com  North Dakota Tribes Score Key Voting Rights Vi...   \n",
       "4   www.nytimes.com  Trump Is Pushing a False Argument on Vote-by-M...   \n",
       "\n",
       "                 Date  \n",
       "0 2020-09-03 14:01:50  \n",
       "1 2020-07-23 06:00:01  \n",
       "2 2020-09-28 18:33:10  \n",
       "3 2020-02-13 21:31:08  \n",
       "4 2020-11-05 03:03:39  "
      ]
     },
     "execution_count": 48,
     "metadata": {},
     "output_type": "execute_result"
    }
   ],
   "source": [
    "df[\"Date\"] = pd.to_datetime(df[\"date_publish\"])\n",
    "df.head()"
   ]
  }
 ],
 "metadata": {
  "interpreter": {
   "hash": "69226dc651b7fbb4cbb68815143d2221db9c2a369a5e9beb9597b16c0cffa010"
  },
  "kernelspec": {
   "display_name": "Python 3.9.10 64-bit (windows store)",
   "language": "python",
   "name": "python3"
  },
  "language_info": {
   "codemirror_mode": {
    "name": "ipython",
    "version": 3
   },
   "file_extension": ".py",
   "mimetype": "text/x-python",
   "name": "python",
   "nbconvert_exporter": "python",
   "pygments_lexer": "ipython3",
   "version": "3.9.12"
  },
  "orig_nbformat": 4
 },
 "nbformat": 4,
 "nbformat_minor": 2
}
